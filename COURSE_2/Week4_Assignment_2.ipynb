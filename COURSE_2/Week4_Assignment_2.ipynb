{
 "cells": [
  {
   "cell_type": "code",
   "execution_count": 1,
   "metadata": {},
   "outputs": [],
   "source": [
    "import pandas as pd\n",
    "import numpy as np\n",
    "import matplotlib.pyplot as plt\n",
    "plt.style.use('seaborn')"
   ]
  },
  {
   "cell_type": "code",
   "execution_count": 2,
   "metadata": {},
   "outputs": [],
   "source": [
    "dtype_dict = {'bathrooms':float, 'waterfront':int, 'sqft_above':int, 'sqft_living15':float, 'grade':int, 'yr_renovated':int, 'price':float, 'bedrooms':float, 'zipcode':str, 'long':float, 'sqft_lot15':float, 'sqft_living':float, 'floors':str, 'condition':int, 'lat':float, 'date':str, 'sqft_basement':int, 'yr_built':int, 'id':str, 'sqft_lot':int, 'view':int}"
   ]
  },
  {
   "cell_type": "markdown",
   "metadata": {},
   "source": [
    "# Loading the Dataset"
   ]
  },
  {
   "cell_type": "code",
   "execution_count": 3,
   "metadata": {},
   "outputs": [
    {
     "data": {
      "text/plain": [
       "(21613, 21)"
      ]
     },
     "execution_count": 3,
     "metadata": {},
     "output_type": "execute_result"
    }
   ],
   "source": [
    "house_data = pd.read_csv('kc_house_data.csv',dtype=dtype_dict)\n",
    "house_data.shape"
   ]
  },
  {
   "cell_type": "code",
   "execution_count": 4,
   "metadata": {},
   "outputs": [],
   "source": [
    "def get_numpy_data(dataset,features,output):\n",
    "#     dataset['constant'] = 1\n",
    "#     features.insert(0,'constant')\n",
    "    X = np.array(dataset[features])\n",
    "    Y = np.array(dataset[output]).reshape(-1,1)\n",
    "    return X,Y\n",
    "    "
   ]
  },
  {
   "cell_type": "code",
   "execution_count": 97,
   "metadata": {},
   "outputs": [],
   "source": [
    "def pred_output(X,W,B):\n",
    "    Y_pred = np.dot(X,W.T) + B #(21613,2) * (2,1) --> (21613,1) + (1,1)  -->(21613,1)\n",
    "    return np.array(Y_pred) #(21613,1)"
   ]
  },
  {
   "cell_type": "code",
   "execution_count": 98,
   "metadata": {},
   "outputs": [],
   "source": [
    "def compute_grad(X,W,Y,l2_penalty,B):\n",
    "    Y_pred = pred_output(X,W,B) #(21613,1)\n",
    "    dW = (-2 * np.dot((Y - Y_pred).T,X)) + (2 * l2_penalty * W)# (1,21613)* (21613,2) --> (1,2) + (1,2) --> (1,2)\n",
    "    dB = np.sum((-2 * (Y - Y_pred))) #(1,1)\n",
    "    return dW,dB\n",
    "    "
   ]
  },
  {
   "cell_type": "code",
   "execution_count": 7,
   "metadata": {},
   "outputs": [
    {
     "name": "stdout",
     "output_type": "stream",
     "text": [
      "(21613, 1) (21613, 1)\n"
     ]
    }
   ],
   "source": [
    "X,Y = get_numpy_data(house_data,['sqft_living'],['price'])\n",
    "print(X.shape,Y.shape)"
   ]
  },
  {
   "cell_type": "code",
   "execution_count": 8,
   "metadata": {},
   "outputs": [
    {
     "name": "stdout",
     "output_type": "stream",
     "text": [
      "(1, 1) (1, 1)\n",
      "(21613, 1)\n"
     ]
    },
    {
     "data": {
      "text/plain": [
       "(array([[-5.85644602e+13]]), -23255512010.0)"
      ]
     },
     "execution_count": 8,
     "metadata": {},
     "output_type": "execute_result"
    }
   ],
   "source": [
    "W = np.array([1.]).reshape(-1,1)\n",
    "B = np.array([10.]).reshape(-1,1)\n",
    "print(W.shape,B.shape)\n",
    "Y_pred = pred_output(X,W,B)\n",
    "print(Y_pred.shape)\n",
    "compute_grad(X,W,Y,1,B)"
   ]
  },
  {
   "cell_type": "code",
   "execution_count": 99,
   "metadata": {},
   "outputs": [],
   "source": [
    "\n",
    "def grad(X,Y,W,B,learning_rate,l2_penalty,epochs=100):\n",
    "    converged = False\n",
    "    loss_arr = []\n",
    "    param_learned = []\n",
    "    \n",
    "    for epoch in range(epochs):\n",
    "        dW,dB = compute_grad(X,W,Y,l2_penalty,B)\n",
    "        W -= learning_rate * dW\n",
    "        B -= learning_rate * dB\n",
    "        loss = (np.mean(np.square((Y - pred_output(X,W,B))))) ** 0.5\n",
    "        loss_arr.append(loss)\n",
    "        \n",
    "    plt.plot(loss_arr)\n",
    "    param_learned.append(W)\n",
    "    param_learned.append(B)\n",
    "    return param_learned\n",
    "        "
   ]
  },
  {
   "cell_type": "markdown",
   "metadata": {},
   "source": [
    "# Spliting into Train-Test"
   ]
  },
  {
   "cell_type": "code",
   "execution_count": 73,
   "metadata": {},
   "outputs": [
    {
     "name": "stdout",
     "output_type": "stream",
     "text": [
      "(17384, 21) (4229, 21)\n"
     ]
    }
   ],
   "source": [
    "train_data = pd.read_csv('kc_house_train_data.csv',dtype=dtype_dict)\n",
    "test_data = pd.read_csv('kc_house_test_data.csv',dtype=dtype_dict)\n",
    "print(train_data.shape,test_data.shape)"
   ]
  },
  {
   "cell_type": "code",
   "execution_count": 74,
   "metadata": {},
   "outputs": [
    {
     "name": "stdout",
     "output_type": "stream",
     "text": [
      "(17384, 1) (17384, 1)\n"
     ]
    }
   ],
   "source": [
    "X_train,Y_train = get_numpy_data(train_data,['sqft_living'],['price'])\n",
    "print(X_train.shape,Y_train.shape)"
   ]
  },
  {
   "cell_type": "code",
   "execution_count": 83,
   "metadata": {},
   "outputs": [
    {
     "name": "stdout",
     "output_type": "stream",
     "text": [
      "(1, 1) (1, 1)\n"
     ]
    }
   ],
   "source": [
    "W = np.array([0.]).reshape(-1,1)\n",
    "B = np.array([0.]).reshape(-1,1)\n",
    "print(W.shape,B.shape)"
   ]
  },
  {
   "cell_type": "code",
   "execution_count": 84,
   "metadata": {},
   "outputs": [
    {
     "data": {
      "image/png": "[encoded data removed]",
      "text/plain": [
       "<Figure size 432x288 with 1 Axes>"
      ]
     },
     "metadata": {
      "needs_background": "light"
     },
     "output_type": "display_data"
    }
   ],
   "source": [
    "params_simple = grad(X_train,Y_train,W,B,1e-12,0,1000)"
   ]
  },
  {
   "cell_type": "code",
   "execution_count": 85,
   "metadata": {},
   "outputs": [
    {
     "data": {
      "text/plain": [
       "[array([[263.02436897]]), array([[-0.16311351]])]"
      ]
     },
     "execution_count": 85,
     "metadata": {},
     "output_type": "execute_result"
    }
   ],
   "source": [
    "params_simple"
   ]
  },
  {
   "cell_type": "code",
   "execution_count": 78,
   "metadata": {},
   "outputs": [
    {
     "data": {
      "image/png": "[encoded data removed]",
      "text/plain": [
       "<Figure size 432x288 with 1 Axes>"
      ]
     },
     "metadata": {
      "needs_background": "light"
     },
     "output_type": "display_data"
    }
   ],
   "source": [
    "params_high = grad(X_train,Y_train,W,B,1e-12,1e11,1000)"
   ]
  },
  {
   "cell_type": "code",
   "execution_count": 79,
   "metadata": {},
   "outputs": [
    {
     "data": {
      "text/plain": [
       "[array([[124.57221625]]), array([[9.55413222]])]"
      ]
     },
     "execution_count": 79,
     "metadata": {},
     "output_type": "execute_result"
    }
   ],
   "source": [
    "params_high"
   ]
  },
  {
   "cell_type": "code",
   "execution_count": null,
   "metadata": {},
   "outputs": [],
   "source": []
  },
  {
   "cell_type": "markdown",
   "metadata": {},
   "source": [
    "# Visualizing the 2 models"
   ]
  },
  {
   "cell_type": "code",
   "execution_count": 65,
   "metadata": {},
   "outputs": [
    {
     "data": {
      "text/plain": [
       "(array([[263.02054959]]), array([[9.34090112]]))"
      ]
     },
     "execution_count": 65,
     "metadata": {},
     "output_type": "execute_result"
    }
   ],
   "source": [
    "W_no_regu,B_no_regu"
   ]
  },
  {
   "cell_type": "code",
   "execution_count": 66,
   "metadata": {},
   "outputs": [
    {
     "data": {
      "text/plain": [
       "(array([[263.02054959]]), array([[9.34090112]]))"
      ]
     },
     "execution_count": 66,
     "metadata": {},
     "output_type": "execute_result"
    }
   ],
   "source": [
    "W_l2,B_l2"
   ]
  },
  {
   "cell_type": "code",
   "execution_count": 91,
   "metadata": {},
   "outputs": [
    {
     "data": {
      "image/png": "[encoded data removed]",
      "text/plain": [
       "<Figure size 1080x720 with 1 Axes>"
      ]
     },
     "metadata": {
      "needs_background": "light"
     },
     "output_type": "display_data"
    }
   ],
   "source": [
    "plt.figure(figsize=(15,10))\n",
    "plt.plot(X,Y,'.')\n",
    "plt.plot(X,pred_output(X,params_simple[0],params_simple[0]),c='g')\n",
    "plt.plot(X,pred_output(X,params_high[0],params_high[1]),c='r')\n",
    "plt.show()"
   ]
  },
  {
   "cell_type": "code",
   "execution_count": null,
   "metadata": {},
   "outputs": [],
   "source": [
    "np.round(W_no_l2,1)"
   ]
  },
  {
   "cell_type": "code",
   "execution_count": null,
   "metadata": {},
   "outputs": [],
   "source": []
  },
  {
   "cell_type": "markdown",
   "metadata": {},
   "source": [
    "# RSS on Test Data"
   ]
  },
  {
   "cell_type": "code",
   "execution_count": 81,
   "metadata": {},
   "outputs": [
    {
     "name": "stdout",
     "output_type": "stream",
     "text": [
      "(4229, 1) (4229, 1)\n"
     ]
    }
   ],
   "source": [
    "X_test,Y_test = get_numpy_data(test_data,['sqft_living'],['price'])\n",
    "print(X_test.shape,Y_test.shape)"
   ]
  },
  {
   "cell_type": "code",
   "execution_count": null,
   "metadata": {},
   "outputs": [],
   "source": []
  },
  {
   "cell_type": "code",
   "execution_count": 82,
   "metadata": {},
   "outputs": [
    {
     "data": {
      "text/plain": [
       "1784273286136298.0"
      ]
     },
     "execution_count": 82,
     "metadata": {},
     "output_type": "execute_result"
    }
   ],
   "source": [
    "W = np.array([0.]).reshape(-1,1)\n",
    "B = np.array([0.]).reshape(-1,1)\n",
    "\n",
    "np.sum(np.square(Y_test - pred_output(X_test,W,B)))"
   ]
  },
  {
   "cell_type": "code",
   "execution_count": 86,
   "metadata": {},
   "outputs": [
    {
     "data": {
      "text/plain": [
       "275723632153607.44"
      ]
     },
     "execution_count": 86,
     "metadata": {},
     "output_type": "execute_result"
    }
   ],
   "source": [
    "W = params_simple[0]\n",
    "B = params_simple[1]\n",
    "np.sum(np.square(Y_test - pred_output(X_test,W,B)))"
   ]
  },
  {
   "cell_type": "code",
   "execution_count": 87,
   "metadata": {},
   "outputs": [
    {
     "data": {
      "text/plain": [
       "694642368617594.2"
      ]
     },
     "execution_count": 87,
     "metadata": {},
     "output_type": "execute_result"
    }
   ],
   "source": [
    "W = params_high[0]\n",
    "B = params_high[1]\n",
    "np.sum(np.square(Y_test - pred_output(X_test,W,B)))"
   ]
  },
  {
   "cell_type": "code",
   "execution_count": 90,
   "metadata": {},
   "outputs": [
    {
     "data": {
      "text/plain": [
       "[array([[124.57221625]]), array([[9.55413222]])]"
      ]
     },
     "execution_count": 90,
     "metadata": {},
     "output_type": "execute_result"
    }
   ],
   "source": [
    "params_high"
   ]
  },
  {
   "cell_type": "markdown",
   "metadata": {},
   "source": [
    "# Model with 2 features"
   ]
  },
  {
   "cell_type": "code",
   "execution_count": 131,
   "metadata": {},
   "outputs": [
    {
     "data": {
      "text/plain": [
       "((17384, 2), (17384, 1))"
      ]
     },
     "execution_count": 131,
     "metadata": {},
     "output_type": "execute_result"
    }
   ],
   "source": [
    "X_train,Y_train = get_numpy_data(train_data,['sqft_living','sqft_living15'],['price'])\n",
    "X_train.shape,Y_train.shape"
   ]
  },
  {
   "cell_type": "code",
   "execution_count": 132,
   "metadata": {},
   "outputs": [
    {
     "name": "stdout",
     "output_type": "stream",
     "text": [
      "(1, 2) (1, 1)\n"
     ]
    }
   ],
   "source": [
    "W = np.array([[0.,0.]])\n",
    "B = np.array([0.]).reshape(-1,1)\n",
    "print(W.shape,B.shape)"
   ]
  },
  {
   "cell_type": "code",
   "execution_count": 133,
   "metadata": {},
   "outputs": [
    {
     "data": {
      "image/png": "[encoded data removed]",
      "text/plain": [
       "<Figure size 432x288 with 1 Axes>"
      ]
     },
     "metadata": {
      "needs_background": "light"
     },
     "output_type": "display_data"
    }
   ],
   "source": [
    "model_2_simple = grad(X_train,Y_train,W,B,1e-12,0,1000)"
   ]
  },
  {
   "cell_type": "code",
   "execution_count": 134,
   "metadata": {},
   "outputs": [
    {
     "data": {
      "text/plain": [
       "[array([[243.05416982,  22.41481497]]), array([[-0.35743483]])]"
      ]
     },
     "execution_count": 134,
     "metadata": {},
     "output_type": "execute_result"
    }
   ],
   "source": [
    "model_2_simple"
   ]
  },
  {
   "cell_type": "code",
   "execution_count": 136,
   "metadata": {},
   "outputs": [
    {
     "data": {
      "image/png": "[encoded data removed]",
      "text/plain": [
       "<Figure size 432x288 with 1 Axes>"
      ]
     },
     "metadata": {
      "needs_background": "light"
     },
     "output_type": "display_data"
    }
   ],
   "source": [
    "model_2_high = grad(X_train,Y_train,W,B,1e-12,1e11,1000)"
   ]
  },
  {
   "cell_type": "code",
   "execution_count": 137,
   "metadata": {},
   "outputs": [
    {
     "data": {
      "text/plain": [
       "[array([[91.48932609, 78.43664063]]), array([[6.35007451]])]"
      ]
     },
     "execution_count": 137,
     "metadata": {},
     "output_type": "execute_result"
    }
   ],
   "source": [
    "model_2_high"
   ]
  },
  {
   "cell_type": "code",
   "execution_count": 126,
   "metadata": {},
   "outputs": [
    {
     "data": {
      "text/plain": [
       "array([[243.1,  22.4]])"
      ]
     },
     "execution_count": 126,
     "metadata": {},
     "output_type": "execute_result"
    }
   ],
   "source": [
    "np.round(model_2_simple[0],1)"
   ]
  },
  {
   "cell_type": "markdown",
   "metadata": {},
   "source": [
    "# RSS on Test Data"
   ]
  },
  {
   "cell_type": "code",
   "execution_count": 127,
   "metadata": {},
   "outputs": [
    {
     "data": {
      "text/plain": [
       "((4229, 2), (4229, 1))"
      ]
     },
     "execution_count": 127,
     "metadata": {},
     "output_type": "execute_result"
    }
   ],
   "source": [
    "X_test,Y_test = get_numpy_data(test_data,['sqft_living','sqft_living15'],['price'])\n",
    "X_test.shape,Y_test.shape"
   ]
  },
  {
   "cell_type": "code",
   "execution_count": 128,
   "metadata": {},
   "outputs": [
    {
     "data": {
      "text/plain": [
       "1784273286136298.0"
      ]
     },
     "execution_count": 128,
     "metadata": {},
     "output_type": "execute_result"
    }
   ],
   "source": [
    "W = np.array([[0.,0.]])\n",
    "B = np.array([0.]).reshape(-1,1)\n",
    "\n",
    "np.sum(np.square(Y_test - pred_output(X_test,W,B)))"
   ]
  },
  {
   "cell_type": "code",
   "execution_count": 135,
   "metadata": {},
   "outputs": [
    {
     "data": {
      "text/plain": [
       "274067615918575.56"
      ]
     },
     "execution_count": 135,
     "metadata": {},
     "output_type": "execute_result"
    }
   ],
   "source": [
    "W = model_2_simple[0]\n",
    "B = model_2_simple[1]\n",
    "np.sum(np.square(Y_test - pred_output(X_test,W,B)))"
   ]
  },
  {
   "cell_type": "code",
   "execution_count": 138,
   "metadata": {},
   "outputs": [
    {
     "data": {
      "text/plain": [
       "500405018079471.56"
      ]
     },
     "execution_count": 138,
     "metadata": {},
     "output_type": "execute_result"
    }
   ],
   "source": [
    "W = model_2_high[0]\n",
    "B = model_2_high[1]\n",
    "np.sum(np.square(Y_test - pred_output(X_test,W,B)))"
   ]
  },
  {
   "cell_type": "code",
   "execution_count": 143,
   "metadata": {},
   "outputs": [
    {
     "name": "stdout",
     "output_type": "stream",
     "text": [
      "[[387465.47605437]]\n",
      "[310000.]\n"
     ]
    },
    {
     "data": {
      "text/plain": [
       "array([[77465.47605437]])"
      ]
     },
     "execution_count": 143,
     "metadata": {},
     "output_type": "execute_result"
    }
   ],
   "source": [
    "W = np.array([[243.05416982,  22.41481497]])\n",
    "B = np.array([-0.35743483]).reshape(-1,1)\n",
    "print(pred_output(X_test[0],W,B))\n",
    "print(Y_test[0])\n",
    "pred_output(X_test[0],W,B) - Y_test[0]\n"
   ]
  },
  {
   "cell_type": "code",
   "execution_count": 144,
   "metadata": {},
   "outputs": [
    {
     "name": "stdout",
     "output_type": "stream",
     "text": [
      "[[270453.30670461]]\n",
      "[310000.]\n"
     ]
    },
    {
     "data": {
      "text/plain": [
       "array([[-39546.69329539]])"
      ]
     },
     "execution_count": 144,
     "metadata": {},
     "output_type": "execute_result"
    }
   ],
   "source": [
    "\n",
    "W = np.array([[91.48932609, 78.43664063]])\n",
    "B = np.array([6.35007451]).reshape(-1,1)\n",
    "print(pred_output(X_test[0],W,B))\n",
    "print(Y_test[0])\n",
    "pred_output(X_test[0],W,B) - Y_test[0]"
   ]
  },
  {
   "cell_type": "code",
   "execution_count": null,
   "metadata": {},
   "outputs": [],
   "source": []
  },
  {
   "cell_type": "markdown",
   "metadata": {},
   "source": [
    "# Questions\n",
    "15. Quiz Question: What is the value of the coefficient for sqft_living that you learned with no regularization, rounded to 1 decimal place? What about the one with high regularization?\n",
    "#### ANS: 263.1\n",
    "16. Quiz Question: Comparing the lines you fit with the with no regularization versus high regularization, which one is steeper?\n",
    "#### ANS: No regularization\n",
    "18. Quiz Question: What are the RSS on the test data for each of the set of weights above (initial, no regularization, high regularization)?\n",
    "#### ANS: 1784273286136298.0 , 275723632153607.44 , 694642368617594.2\n",
    "22. Quiz Question: What is the value of the coefficient for ‘sqft_living’ that you learned with no regularization, rounded to 1 decimal place? What about the one with high regularization?\n",
    "#### ANS: 243.1\n",
    "24. Quiz Question: What are the RSS on the test data for each of the set of weights above (initial, no regularization, high regularization)?\n",
    "#### ANS: 1784273286136298.0,  274067615918575.56, 500405018079471.56\n",
    "26. Quiz Question: What's the error in predicting the price of the first house in the test set using the weights learned with no regularization? What about with high regularization?\n",
    "#### ANS: 77465.47605437 , -39546.69329539"
   ]
  },
  {
   "cell_type": "code",
   "execution_count": null,
   "metadata": {},
   "outputs": [],
   "source": []
  }
 ],
 "metadata": {
  "kernelspec": {
   "display_name": "Python 3",
   "language": "python",
   "name": "python3"
  },
  "language_info": {
   "codemirror_mode": {
    "name": "ipython",
    "version": 3
   },
   "file_extension": ".py",
   "mimetype": "text/x-python",
   "name": "python",
   "nbconvert_exporter": "python",
   "pygments_lexer": "ipython3",
   "version": "3.7.4"
  }
 },
 "nbformat": 4,
 "nbformat_minor": 2
}
