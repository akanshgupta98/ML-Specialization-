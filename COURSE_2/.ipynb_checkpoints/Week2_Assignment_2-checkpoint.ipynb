{
 "cells": [
  {
   "cell_type": "markdown",
   "metadata": {},
   "source": [
    "# Importing Libraries"
   ]
  },
  {
   "cell_type": "code",
   "execution_count": 1,
   "metadata": {},
   "outputs": [],
   "source": [
    "import numpy as np\n",
    "import pandas as pd\n",
    "import matplotlib.pyplot as plt\n"
   ]
  },
  {
   "cell_type": "markdown",
   "metadata": {},
   "source": [
    "# Reading the Dataset"
   ]
  },
  {
   "cell_type": "code",
   "execution_count": 2,
   "metadata": {},
   "outputs": [],
   "source": [
    "dtype_dict = {'bathrooms':float, 'waterfront':int, 'sqft_above':int, 'sqft_living15':float, 'grade':int, 'yr_renovated':int, 'price':float, 'bedrooms':float, 'zipcode':str, 'long':float, 'sqft_lot15':float, 'sqft_living':float, 'floors':str, 'condition':int, 'lat':float, 'date':str, 'sqft_basement':int, 'yr_built':int, 'id':str, 'sqft_lot':int, 'view':int}"
   ]
  },
  {
   "cell_type": "code",
   "execution_count": 3,
   "metadata": {},
   "outputs": [
    {
     "data": {
      "text/html": [
       "<div>\n",
       "<style scoped>\n",
       "    .dataframe tbody tr th:only-of-type {\n",
       "        vertical-align: middle;\n",
       "    }\n",
       "\n",
       "    .dataframe tbody tr th {\n",
       "        vertical-align: top;\n",
       "    }\n",
       "\n",
       "    .dataframe thead th {\n",
       "        text-align: right;\n",
       "    }\n",
       "</style>\n",
       "<table border=\"1\" class=\"dataframe\">\n",
       "  <thead>\n",
       "    <tr style=\"text-align: right;\">\n",
       "      <th></th>\n",
       "      <th>id</th>\n",
       "      <th>date</th>\n",
       "      <th>price</th>\n",
       "      <th>bedrooms</th>\n",
       "      <th>bathrooms</th>\n",
       "      <th>sqft_living</th>\n",
       "      <th>sqft_lot</th>\n",
       "      <th>floors</th>\n",
       "      <th>waterfront</th>\n",
       "      <th>view</th>\n",
       "      <th>...</th>\n",
       "      <th>grade</th>\n",
       "      <th>sqft_above</th>\n",
       "      <th>sqft_basement</th>\n",
       "      <th>yr_built</th>\n",
       "      <th>yr_renovated</th>\n",
       "      <th>zipcode</th>\n",
       "      <th>lat</th>\n",
       "      <th>long</th>\n",
       "      <th>sqft_living15</th>\n",
       "      <th>sqft_lot15</th>\n",
       "    </tr>\n",
       "  </thead>\n",
       "  <tbody>\n",
       "    <tr>\n",
       "      <td>0</td>\n",
       "      <td>7129300520</td>\n",
       "      <td>20141013T000000</td>\n",
       "      <td>221900.0</td>\n",
       "      <td>3.0</td>\n",
       "      <td>1.00</td>\n",
       "      <td>1180.0</td>\n",
       "      <td>5650</td>\n",
       "      <td>1</td>\n",
       "      <td>0</td>\n",
       "      <td>0</td>\n",
       "      <td>...</td>\n",
       "      <td>7</td>\n",
       "      <td>1180</td>\n",
       "      <td>0</td>\n",
       "      <td>1955</td>\n",
       "      <td>0</td>\n",
       "      <td>98178</td>\n",
       "      <td>47.5112</td>\n",
       "      <td>-122.257</td>\n",
       "      <td>1340.0</td>\n",
       "      <td>5650.0</td>\n",
       "    </tr>\n",
       "    <tr>\n",
       "      <td>1</td>\n",
       "      <td>6414100192</td>\n",
       "      <td>20141209T000000</td>\n",
       "      <td>538000.0</td>\n",
       "      <td>3.0</td>\n",
       "      <td>2.25</td>\n",
       "      <td>2570.0</td>\n",
       "      <td>7242</td>\n",
       "      <td>2</td>\n",
       "      <td>0</td>\n",
       "      <td>0</td>\n",
       "      <td>...</td>\n",
       "      <td>7</td>\n",
       "      <td>2170</td>\n",
       "      <td>400</td>\n",
       "      <td>1951</td>\n",
       "      <td>1991</td>\n",
       "      <td>98125</td>\n",
       "      <td>47.7210</td>\n",
       "      <td>-122.319</td>\n",
       "      <td>1690.0</td>\n",
       "      <td>7639.0</td>\n",
       "    </tr>\n",
       "    <tr>\n",
       "      <td>2</td>\n",
       "      <td>5631500400</td>\n",
       "      <td>20150225T000000</td>\n",
       "      <td>180000.0</td>\n",
       "      <td>2.0</td>\n",
       "      <td>1.00</td>\n",
       "      <td>770.0</td>\n",
       "      <td>10000</td>\n",
       "      <td>1</td>\n",
       "      <td>0</td>\n",
       "      <td>0</td>\n",
       "      <td>...</td>\n",
       "      <td>6</td>\n",
       "      <td>770</td>\n",
       "      <td>0</td>\n",
       "      <td>1933</td>\n",
       "      <td>0</td>\n",
       "      <td>98028</td>\n",
       "      <td>47.7379</td>\n",
       "      <td>-122.233</td>\n",
       "      <td>2720.0</td>\n",
       "      <td>8062.0</td>\n",
       "    </tr>\n",
       "    <tr>\n",
       "      <td>3</td>\n",
       "      <td>2487200875</td>\n",
       "      <td>20141209T000000</td>\n",
       "      <td>604000.0</td>\n",
       "      <td>4.0</td>\n",
       "      <td>3.00</td>\n",
       "      <td>1960.0</td>\n",
       "      <td>5000</td>\n",
       "      <td>1</td>\n",
       "      <td>0</td>\n",
       "      <td>0</td>\n",
       "      <td>...</td>\n",
       "      <td>7</td>\n",
       "      <td>1050</td>\n",
       "      <td>910</td>\n",
       "      <td>1965</td>\n",
       "      <td>0</td>\n",
       "      <td>98136</td>\n",
       "      <td>47.5208</td>\n",
       "      <td>-122.393</td>\n",
       "      <td>1360.0</td>\n",
       "      <td>5000.0</td>\n",
       "    </tr>\n",
       "    <tr>\n",
       "      <td>4</td>\n",
       "      <td>1954400510</td>\n",
       "      <td>20150218T000000</td>\n",
       "      <td>510000.0</td>\n",
       "      <td>3.0</td>\n",
       "      <td>2.00</td>\n",
       "      <td>1680.0</td>\n",
       "      <td>8080</td>\n",
       "      <td>1</td>\n",
       "      <td>0</td>\n",
       "      <td>0</td>\n",
       "      <td>...</td>\n",
       "      <td>8</td>\n",
       "      <td>1680</td>\n",
       "      <td>0</td>\n",
       "      <td>1987</td>\n",
       "      <td>0</td>\n",
       "      <td>98074</td>\n",
       "      <td>47.6168</td>\n",
       "      <td>-122.045</td>\n",
       "      <td>1800.0</td>\n",
       "      <td>7503.0</td>\n",
       "    </tr>\n",
       "  </tbody>\n",
       "</table>\n",
       "<p>5 rows × 21 columns</p>\n",
       "</div>"
      ],
      "text/plain": [
       "           id             date     price  bedrooms  bathrooms  sqft_living  \\\n",
       "0  7129300520  20141013T000000  221900.0       3.0       1.00       1180.0   \n",
       "1  6414100192  20141209T000000  538000.0       3.0       2.25       2570.0   \n",
       "2  5631500400  20150225T000000  180000.0       2.0       1.00        770.0   \n",
       "3  2487200875  20141209T000000  604000.0       4.0       3.00       1960.0   \n",
       "4  1954400510  20150218T000000  510000.0       3.0       2.00       1680.0   \n",
       "\n",
       "   sqft_lot floors  waterfront  view  ...  grade  sqft_above  sqft_basement  \\\n",
       "0      5650      1           0     0  ...      7        1180              0   \n",
       "1      7242      2           0     0  ...      7        2170            400   \n",
       "2     10000      1           0     0  ...      6         770              0   \n",
       "3      5000      1           0     0  ...      7        1050            910   \n",
       "4      8080      1           0     0  ...      8        1680              0   \n",
       "\n",
       "   yr_built  yr_renovated  zipcode      lat     long  sqft_living15  \\\n",
       "0      1955             0    98178  47.5112 -122.257         1340.0   \n",
       "1      1951          1991    98125  47.7210 -122.319         1690.0   \n",
       "2      1933             0    98028  47.7379 -122.233         2720.0   \n",
       "3      1965             0    98136  47.5208 -122.393         1360.0   \n",
       "4      1987             0    98074  47.6168 -122.045         1800.0   \n",
       "\n",
       "   sqft_lot15  \n",
       "0      5650.0  \n",
       "1      7639.0  \n",
       "2      8062.0  \n",
       "3      5000.0  \n",
       "4      7503.0  \n",
       "\n",
       "[5 rows x 21 columns]"
      ]
     },
     "execution_count": 3,
     "metadata": {},
     "output_type": "execute_result"
    }
   ],
   "source": [
    "house_data = pd.read_csv('kc_house_data.csv',dtype=dtype_dict)\n",
    "house_data.head()"
   ]
  },
  {
   "cell_type": "markdown",
   "metadata": {},
   "source": [
    "# Splitting into Train-Test"
   ]
  },
  {
   "cell_type": "code",
   "execution_count": 4,
   "metadata": {},
   "outputs": [
    {
     "name": "stdout",
     "output_type": "stream",
     "text": [
      "(17384, 21) (4229, 21)\n"
     ]
    }
   ],
   "source": [
    "train_data = pd.read_csv('kc_house_train_data.csv',dtype=dtype_dict)\n",
    "test_data = pd.read_csv('kc_house_test_data.csv',dtype=dtype_dict)\n",
    "print(train_data.shape,test_data.shape)"
   ]
  },
  {
   "cell_type": "markdown",
   "metadata": {},
   "source": [
    "# Getting data as a numpy matrix"
   ]
  },
  {
   "cell_type": "code",
   "execution_count": 5,
   "metadata": {},
   "outputs": [],
   "source": [
    "def get_numpy_data(dataset,features,output):\n",
    "    dataset['constant'] = 1\n",
    "    features.insert(0,'constant')\n",
    "    X = np.array(dataset[features])\n",
    "    Y = np.array(dataset[output]).reshape(-1,1)\n",
    "    return X,Y\n",
    "    "
   ]
  },
  {
   "cell_type": "markdown",
   "metadata": {},
   "source": [
    "# Predicting Output"
   ]
  },
  {
   "cell_type": "code",
   "execution_count": 6,
   "metadata": {},
   "outputs": [],
   "source": [
    "def pred_output(X,W):\n",
    "    Y_pred = np.dot(X,W.T) #(3,2) * (1,2) \n",
    "    return Y_pred #(3,1)"
   ]
  },
  {
   "cell_type": "markdown",
   "metadata": {},
   "source": [
    "# Computing Derivative"
   ]
  },
  {
   "cell_type": "code",
   "execution_count": 7,
   "metadata": {},
   "outputs": [],
   "source": [
    "def compute_grad(X,W,Y):\n",
    "    Y_pred = pred_output(X,W) #(3,1)\n",
    "    dW = -2 * np.dot((Y - Y_pred).T,X) # (3,1) - (3,1) -> (1,3) * (3,2) -> (1,2)\n",
    "    return dW\n",
    "    "
   ]
  },
  {
   "cell_type": "markdown",
   "metadata": {},
   "source": [
    "# Gradient Descent"
   ]
  },
  {
   "cell_type": "code",
   "execution_count": 8,
   "metadata": {},
   "outputs": [],
   "source": [
    "\n",
    "def grad(X,Y,W,learning_rate,tolerance):\n",
    "    converged = False\n",
    "    loss_arr = []\n",
    "    \n",
    "    while(not converged):\n",
    "        grad_sum_sq = 0\n",
    "        dW = compute_grad(X,W,Y)\n",
    "        grad_sum_sq = np.sum(np.square(dW))\n",
    "        W -= learning_rate * dW\n",
    "        print(grad_sum_sq,' ')\n",
    "        if(np.sqrt(grad_sum_sq) < tolerance):\n",
    "            converged = True\n",
    "    return W\n",
    "        "
   ]
  },
  {
   "cell_type": "markdown",
   "metadata": {},
   "source": [
    "# Let's Check Whether this is working for dummy example"
   ]
  },
  {
   "cell_type": "code",
   "execution_count": 9,
   "metadata": {
    "scrolled": true
   },
   "outputs": [
    {
     "name": "stdout",
     "output_type": "stream",
     "text": [
      "(17384, 2) (17384, 1)\n",
      "(1, 2)\n",
      "2.555457264704116e+27  \n",
      "1.7232997044781152e+26  \n",
      "1.1621254295552887e+25  \n",
      "7.836916065790902e+23  \n",
      "5.284907451530232e+22  \n",
      "3.5639333814166125e+21  \n",
      "2.4033762717437198e+20  \n",
      "1.620742315195644e+19  \n",
      "1.0929651764117583e+18  \n",
      "7.370567547611414e+16  \n",
      "4970830209874756.0  \n",
      "335623032724346.2  \n"
     ]
    }
   ],
   "source": [
    "X,Y = get_numpy_data(train_data,features=['sqft_living'],output = ['price'])\n",
    "print(X.shape,Y.shape)\n",
    "W = np.array([-47000.,1.]).reshape(1,-1)\n",
    "print(W.shape)\n",
    "learning_rate = 7e-12\n",
    "tolerance = 2.5e7\n",
    "W_learned= grad(X,Y,W,learning_rate,tolerance)"
   ]
  },
  {
   "cell_type": "code",
   "execution_count": 10,
   "metadata": {},
   "outputs": [
    {
     "data": {
      "text/plain": [
       "281.9"
      ]
     },
     "execution_count": 10,
     "metadata": {},
     "output_type": "execute_result"
    }
   ],
   "source": [
    "np.round(W_learned[0][1],1)"
   ]
  },
  {
   "cell_type": "markdown",
   "metadata": {},
   "source": [
    "# Test Set"
   ]
  },
  {
   "cell_type": "code",
   "execution_count": 11,
   "metadata": {},
   "outputs": [],
   "source": [
    "X_test,Y_test = get_numpy_data(test_data,features=['sqft_living'],output=['price'])"
   ]
  },
  {
   "cell_type": "code",
   "execution_count": 12,
   "metadata": {},
   "outputs": [
    {
     "data": {
      "text/plain": [
       "array([356134.443255])"
      ]
     },
     "execution_count": 12,
     "metadata": {},
     "output_type": "execute_result"
    }
   ],
   "source": [
    "pred_output(X_test[0],W_learned)"
   ]
  },
  {
   "cell_type": "markdown",
   "metadata": {},
   "source": [
    "# RSS"
   ]
  },
  {
   "cell_type": "code",
   "execution_count": 13,
   "metadata": {},
   "outputs": [
    {
     "data": {
      "text/plain": [
       "275400044902128.3"
      ]
     },
     "execution_count": 13,
     "metadata": {},
     "output_type": "execute_result"
    }
   ],
   "source": [
    "np.sum(np.square(pred_output(X_test,W_learned) - Y_test))"
   ]
  },
  {
   "cell_type": "markdown",
   "metadata": {},
   "source": [
    "# Now working on more than 1 features. Model-2"
   ]
  },
  {
   "cell_type": "code",
   "execution_count": 14,
   "metadata": {},
   "outputs": [
    {
     "name": "stdout",
     "output_type": "stream",
     "text": [
      "(17384, 3) (17384, 1)\n",
      "(1, 3)\n",
      "5.339520188136633e+27  \n",
      "5.14074949042657e+26  \n",
      "4.985482015024819e+25  \n",
      "5.178730370138792e+24  \n",
      "8.630114778144385e+23  \n",
      "4.307394451183367e+23  \n",
      "3.728511162356119e+23  \n",
      "3.517424298211411e+23  \n",
      "3.34900549581351e+23  \n",
      "3.191636242493768e+23  \n",
      "3.041949240022408e+23  \n",
      "2.8993101827573225e+23  \n",
      "2.7633622281771433e+23  \n",
      "2.6337890963363443e+23  \n",
      "2.5102916299902257e+23  \n",
      "2.3925849198037308e+23  \n",
      "2.280397436956995e+23  \n",
      "2.1734703865637986e+23  \n",
      "2.071557108737322e+23  \n",
      "1.974422509406782e+23  \n",
      "1.881842517983211e+23  \n",
      "1.7936035704705534e+23  \n",
      "1.709502116814989e+23  \n",
      "1.629344151354628e+23  \n",
      "1.5529447652862312e+23  \n",
      "1.480127720116658e+23  \n",
      "1.4107250411150176e+23  \n",
      "1.344576629827688e+23  \n",
      "1.2815298947624057e+23  \n",
      "1.2214393993894088e+23  \n",
      "1.1641665266477397e+23  \n",
      "1.109579159182666e+23  \n",
      "1.0575513745767346e+23  \n",
      "1.007963154871262e+23  \n",
      "9.60700109708314e+22  \n",
      "9.156532124544497e+22  \n",
      "8.727185486975023e+22  \n",
      "8.317970765363131e+22  \n",
      "7.927943981103455e+22  \n",
      "7.556205418422456e+22  \n",
      "7.201897548909248e+22  \n",
      "6.864203053364711e+22  \n",
      "6.5423429364055705e+22  \n",
      "6.23557472947369e+22  \n",
      "5.943190778105991e+22  \n",
      "5.664516609513286e+22  \n",
      "5.398909376703377e+22  \n",
      "5.145756375557893e+22  \n",
      "4.904473631443705e+22  \n",
      "4.674504552097085e+22  \n",
      "4.455318643673669e+22  \n",
      "4.246410287002967e+22  \n",
      "4.047297571223118e+22  \n",
      "3.857521182106655e+22  \n",
      "3.676643342511926e+22  \n",
      "3.504246802516846e+22  \n",
      "3.3399338769043e+22  \n",
      "3.183325527780102e+22  \n",
      "3.0340604902064035e+22  \n",
      "2.891794438833781e+22  \n",
      "2.7561991936099456e+22  \n",
      "2.6269619627321232e+22  \n",
      "2.5037846210975503e+22  \n",
      "2.386383022586764e+22  \n",
      "2.274486344594005e+22  \n",
      "2.1678364632922148e+22  \n",
      "2.0661873581917072e+22  \n",
      "1.969304544618774e+22  \n",
      "1.8769645328053372e+22  \n",
      "1.788954312341554e+22  \n",
      "1.7050708608023137e+22  \n",
      "1.62512067541414e+22  \n",
      "1.548919326681908e+22  \n",
      "1.476291032946015e+22  \n",
      "1.40706825488833e+22  \n",
      "1.341091309051682e+22  \n",
      "1.2782079994811298e+22  \n",
      "1.2182732666377108e+22  \n",
      "1.1611488527742539e+22  \n",
      "1.1067029830017242e+22  \n",
      "1.054810061310281e+22  \n",
      "1.0053503808436733e+22  \n",
      "9.582098477589677e+21  \n",
      "9.132797180341755e+21  \n",
      "8.704563466170813e+21  \n",
      "8.296409483362733e+21  \n",
      "7.907393700229737e+21  \n",
      "7.536618733180636e+21  \n",
      "7.183229276632128e+21  \n",
      "6.846410129984658e+21  \n",
      "6.525384317114331e+21  \n",
      "6.219411294039909e+21  \n",
      "5.927785240632388e+21  \n",
      "5.649833432425723e+21  \n",
      "5.384914688771959e+21  \n",
      "5.132417893763307e+21  \n",
      "4.891760586506193e+21  \n",
      "4.6623876174978676e+21  \n",
      "4.4437698680043083e+21  \n",
      "4.2354030294869323e+21  \n",
      "4.0368064402606486e+21  \n",
      "3.8475219767014845e+21  \n",
      "3.6671129964441124e+21  \n",
      "3.495163331133504e+21  \n",
      "3.331276326405397e+21  \n",
      "3.175073926882046e+21  \n",
      "3.026195804072295e+21  \n",
      "2.8842985251635226e+21  \n",
      "2.7490547607897065e+21  \n",
      "2.6201525299459816e+21  \n",
      "2.497294480309252e+21  \n",
      "2.380197202304579e+21  \n",
      "2.268590575334078e+21  \n",
      "2.1622171446621205e+21  \n",
      "2.0608315275166367e+21  \n",
      "1.9641998470392001e+21  \n",
      "1.8720991927768753e+21  \n",
      "1.784317106471188e+21  \n",
      "1.7006510919579153e+21  \n",
      "1.6209081480484256e+21  \n",
      "1.5449043233133308e+21  \n",
      "1.4724642917423362e+21  \n",
      "1.4034209483015617e+21  \n",
      "1.3376150234544063e+21  \n",
      "1.2748947157580477e+21  \n",
      "1.2151153416870733e+21  \n",
      "1.1581390018767448e+21  \n",
      "1.1038342630160067e+21  \n",
      "1.0520758546564685e+21  \n",
      "1.0027443802379812e+21  \n",
      "9.557260416639808e+20  \n",
      "9.109123767913627e+20  \n",
      "8.682000092296259e+20  \n",
      "8.274904098716362e+20  \n",
      "7.886896696060614e+20  \n",
      "7.517082826876078e+20  \n",
      "7.164609402644e+20  \n",
      "6.828663335873426e+20  \n",
      "6.508469664465271e+20  \n",
      "6.203289764026287e+20  \n",
      "5.912419644007144e+20  \n",
      "5.635188323732172e+20  \n",
      "5.370956284579739e+20  \n",
      "5.119113994734539e+20  \n",
      "4.87908050311936e+20  \n",
      "4.6503020992523416e+20  \n",
      "4.43225103594521e+20  \n",
      "4.224424311894334e+20  \n",
      "4.0263425113531594e+20  \n",
      "3.837548698214915e+20  \n",
      "3.657607361949503e+20  \n",
      "3.486103412964888e+20  \n",
      "3.3226412250776535e+20  \n",
      "3.1668437228801524e+20  \n",
      "3.0183515118996554e+20  \n",
      "2.876822049547932e+20  \n",
      "2.741928854939225e+20  \n",
      "2.6133607557650317e+20  \n",
      "2.490821170478939e+20  \n",
      "2.374027424141391e+20  \n",
      "2.262710096342556e+20  \n",
      "2.1566123997036728e+20  \n",
      "2.05548958751744e+20  \n",
      "1.9591083891651753e+20  \n",
      "1.867246472007598e+20  \n",
      "1.779691928506069e+20  \n",
      "1.69624278739311e+20  \n",
      "1.6167065477648872e+20  \n",
      "1.5408997350184695e+20  \n",
      "1.4686474776119624e+20  \n",
      "1.3997831036697395e+20  \n",
      "1.334147756502959e+20  \n",
      "1.271590028158343e+20  \n",
      "1.2119656101493347e+20  \n",
      "1.1551369605645353e+20  \n",
      "1.1009729867854612e+20  \n",
      "1.0493487430815241e+20  \n",
      "1.0001451423839964e+20  \n",
      "9.532486815763037e+19  \n",
      "9.085511796635723e+19  \n",
      "8.659495282205475e+19  \n",
      "8.253454535405224e+19  \n",
      "7.866452899371804e+19  \n",
      "7.497597636757917e+19  \n",
      "7.146037870365653e+19  \n",
      "6.8109626203321475e+19  \n",
      "6.491598933365437e+19  \n",
      "6.187210099683082e+19  \n",
      "5.897093953572373e+19  \n",
      "5.6205812536299586e+19  \n",
      "5.357034138949565e+19  \n",
      "5.105844657702889e+19  \n",
      "4.866433364717188e+19  \n",
      "4.638247984799862e+19  \n",
      "4.420762138753426e+19  \n",
      "4.213474129121003e+19  \n",
      "4.015905782864485e+19  \n",
      "3.827601348316322e+19  \n",
      "3.6481264438468973e+19  \n",
      "3.4770670558326817e+19  \n",
      "3.3140285836049613e+19  \n",
      "3.1586349291852726e+19  \n",
      "3.0105276297004786e+19  \n",
      "2.8693650304759095e+19  \n",
      "2.7348214969090355e+19  \n",
      "2.606586663290743e+19  \n",
      "2.484364716853646e+19  \n",
      "2.367873715388621e+19  \n",
      "2.2568449368594792e+19  \n",
      "2.151022259514725e+19  \n",
      "2.0501615710629114e+19  \n",
      "1.9540302055523107e+19  \n",
      "1.862406406661051e+19  \n",
      "1.775078816142358e+19  \n",
      "1.6918459862651378e+19  \n",
      "1.6125159151137952e+19  \n",
      "1.5369056036749156e+19  \n",
      "1.4648406336973636e+19  \n",
      "1.3961547653409087e+19  \n",
      "1.330689553694462e+19  \n",
      "1.268293983274474e+19  \n",
      "1.2088241196609161e+19  \n",
      "1.1521427774689559e+19  \n",
      "1.0981192038895882e+19  \n",
      "1.046628777068603e+19  \n",
      "9.975527186264998e+18  \n",
      "9.507778196622815e+18  \n",
      "9.061961795995238e+18  \n",
      "8.637049572840657e+18  \n",
      "8.232061337481824e+18  \n",
      "7.846062860987863e+18  \n",
      "7.478163720111079e+18  \n",
      "7.127515243234249e+18  \n",
      "6.793308552668855e+18  \n",
      "6.474772698712158e+18  \n",
      "6.171172881236656e+18  \n",
      "5.881808754637021e+18  \n",
      "5.606012812263881e+18  \n",
      "5.343148846641306e+18  \n",
      "5.092610481826263e+18  \n",
      "4.853819774647483e+18  \n",
      "4.626225881484303e+18  \n",
      "4.409303787580554e+18  \n",
      "4.2025530959471903e+18  \n",
      "4.0054968730351775e+18  \n",
      "3.8176805485424886e+18  \n",
      "3.6386708668159887e+18  \n",
      "3.4680548874132623e+18  \n",
      "3.305439032516089e+18  \n",
      "3.150448179048312e+18  \n",
      "3.0027247933152195e+18  \n",
      "2.8619281062599946e+18  \n",
      "2.727733327367105e+18  \n",
      "2.599830895436126e+18  \n",
      "2.477925764486651e+18  \n",
      "2.36173672313717e+18  \n",
      "2.250995745921789e+18  \n",
      "2.145447374983721e+18  \n",
      "2.0448481308067292e+18  \n",
      "1.948965950538649e+18  \n",
      "1.8575796526792576e+18  \n",
      "1.77047842685118e+18  \n",
      "1.6874613475029627e+18  \n",
      "1.6083369104107008e+18  \n",
      "1.532922590923406e+18  \n",
      "1.4610444229007887e+18  \n",
      "1.392536597419683e+18  \n",
      "1.3272410802800005e+18  \n",
      "1.2650072474498406e+18  \n",
      "1.2056915376066588e+18  \n",
      "1.1491571209670447e+18  \n",
      "1.0952735836522191e+18  \n",
      "1.0439166268428723e+18  \n",
      "9.949677800489701e+17  \n"
     ]
    }
   ],
   "source": [
    "X,Y = get_numpy_data(train_data,features=['sqft_living','sqft_living15'],output = ['price'])\n",
    "print(X.shape,Y.shape)\n",
    "W = np.array([-100000., 1., 1.]).reshape(1,-1)\n",
    "print(W.shape)\n",
    "learning_rate = 4e-12\n",
    "tolerance = 1e9\n",
    "W_learned_model_2= grad(X,Y,W,learning_rate,tolerance)"
   ]
  },
  {
   "cell_type": "code",
   "execution_count": 15,
   "metadata": {},
   "outputs": [
    {
     "data": {
      "text/plain": [
       "array([366651.41162949])"
      ]
     },
     "execution_count": 15,
     "metadata": {},
     "output_type": "execute_result"
    }
   ],
   "source": [
    "X_test,Y_test = get_numpy_data(test_data,features=['sqft_living','sqft_living15'],output=['price'])\n",
    "pred_output(X_test[0],W_learned_model_2)"
   ]
  },
  {
   "cell_type": "code",
   "execution_count": 21,
   "metadata": {},
   "outputs": [
    {
     "data": {
      "text/plain": [
       "array([310000.])"
      ]
     },
     "execution_count": 21,
     "metadata": {},
     "output_type": "execute_result"
    }
   ],
   "source": [
    "Y_test[0]"
   ]
  },
  {
   "cell_type": "code",
   "execution_count": 22,
   "metadata": {},
   "outputs": [
    {
     "data": {
      "text/plain": [
       "270263443629803.56"
      ]
     },
     "execution_count": 22,
     "metadata": {},
     "output_type": "execute_result"
    }
   ],
   "source": [
    "np.sum(np.square(pred_output(X_test,W_learned_model_2) - Y_test))"
   ]
  },
  {
   "cell_type": "markdown",
   "metadata": {},
   "source": [
    "# Questions"
   ]
  },
  {
   "cell_type": "markdown",
   "metadata": {},
   "source": [
    "9. Quiz Question: What is the value of the weight for sqft_living -- the second element of ‘simple_weights’ (rounded to 1 decimal place)?\n",
    "#### ANS 281.9\n",
    "11. Quiz Question: What is the predicted price for the 1st house in the Test data set for model 1 (round to nearest dollar)?\n",
    "#### ANS: 356134.443255\n",
    "15. Quiz Question: What is the predicted price for the 1st house in the TEST data set for model 2 (round to nearest dollar)?\n",
    "#### ANS: 366651.41162949\n",
    "17. Quiz Question: Which estimate was closer to the true price for the 1st house on the TEST data set, model 1 or model 2?\n",
    "#### ANS: model 1\n",
    "19. Quiz Question: Which model (1 or 2) has lowest RSS on all of the TEST data?\n",
    "#### ANS: model 2\n"
   ]
  },
  {
   "cell_type": "code",
   "execution_count": null,
   "metadata": {},
   "outputs": [],
   "source": []
  }
 ],
 "metadata": {
  "kernelspec": {
   "display_name": "Python 3",
   "language": "python",
   "name": "python3"
  },
  "language_info": {
   "codemirror_mode": {
    "name": "ipython",
    "version": 3
   },
   "file_extension": ".py",
   "mimetype": "text/x-python",
   "name": "python",
   "nbconvert_exporter": "python",
   "pygments_lexer": "ipython3",
   "version": "3.7.4"
  }
 },
 "nbformat": 4,
 "nbformat_minor": 2
}
