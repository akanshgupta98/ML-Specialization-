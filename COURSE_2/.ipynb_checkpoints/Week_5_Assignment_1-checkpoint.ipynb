{
 "cells": [
  {
   "cell_type": "code",
   "execution_count": 109,
   "metadata": {},
   "outputs": [],
   "source": [
    "import pandas as pd\n",
    "import numpy as np\n",
    "import matplotlib.pyplot as plt\n",
    "plt.style.use('seaborn')\n",
    "from sklearn.linear_model import Lasso"
   ]
  },
  {
   "cell_type": "code",
   "execution_count": 110,
   "metadata": {},
   "outputs": [
    {
     "name": "stdout",
     "output_type": "stream",
     "text": [
      "(21613, 21)\n"
     ]
    }
   ],
   "source": [
    "dtype_dict = {'bathrooms':float, 'waterfront':int, 'sqft_above':int, 'sqft_living15':float, 'grade':int, 'yr_renovated':int, 'price':float, 'bedrooms':float, 'zipcode':str, 'long':float, 'sqft_lot15':float, 'sqft_living':float, 'floors':float, 'condition':int, 'lat':float, 'date':str, 'sqft_basement':int, 'yr_built':int, 'id':str, 'sqft_lot':int, 'view':int}\n",
    "\n",
    "house_data = pd.read_csv('kc_house_data.csv',dtype=dtype_dict)\n",
    "print(house_data.shape)"
   ]
  },
  {
   "cell_type": "code",
   "execution_count": 111,
   "metadata": {},
   "outputs": [
    {
     "data": {
      "text/html": [
       "<div>\n",
       "<style scoped>\n",
       "    .dataframe tbody tr th:only-of-type {\n",
       "        vertical-align: middle;\n",
       "    }\n",
       "\n",
       "    .dataframe tbody tr th {\n",
       "        vertical-align: top;\n",
       "    }\n",
       "\n",
       "    .dataframe thead th {\n",
       "        text-align: right;\n",
       "    }\n",
       "</style>\n",
       "<table border=\"1\" class=\"dataframe\">\n",
       "  <thead>\n",
       "    <tr style=\"text-align: right;\">\n",
       "      <th></th>\n",
       "      <th>id</th>\n",
       "      <th>date</th>\n",
       "      <th>price</th>\n",
       "      <th>bedrooms</th>\n",
       "      <th>bathrooms</th>\n",
       "      <th>sqft_living</th>\n",
       "      <th>sqft_lot</th>\n",
       "      <th>floors</th>\n",
       "      <th>waterfront</th>\n",
       "      <th>view</th>\n",
       "      <th>...</th>\n",
       "      <th>yr_renovated</th>\n",
       "      <th>zipcode</th>\n",
       "      <th>lat</th>\n",
       "      <th>long</th>\n",
       "      <th>sqft_living15</th>\n",
       "      <th>sqft_lot15</th>\n",
       "      <th>sqft_living_sqrt</th>\n",
       "      <th>sqft_lot_sqrt</th>\n",
       "      <th>bedrooms_square</th>\n",
       "      <th>floors_square</th>\n",
       "    </tr>\n",
       "  </thead>\n",
       "  <tbody>\n",
       "    <tr>\n",
       "      <td>0</td>\n",
       "      <td>7129300520</td>\n",
       "      <td>20141013T000000</td>\n",
       "      <td>221900.0</td>\n",
       "      <td>3.0</td>\n",
       "      <td>1.00</td>\n",
       "      <td>1180.0</td>\n",
       "      <td>5650</td>\n",
       "      <td>1.0</td>\n",
       "      <td>0</td>\n",
       "      <td>0</td>\n",
       "      <td>...</td>\n",
       "      <td>0</td>\n",
       "      <td>98178</td>\n",
       "      <td>47.5112</td>\n",
       "      <td>-122.257</td>\n",
       "      <td>1340.0</td>\n",
       "      <td>5650.0</td>\n",
       "      <td>34.351128</td>\n",
       "      <td>75.166482</td>\n",
       "      <td>9.0</td>\n",
       "      <td>1.0</td>\n",
       "    </tr>\n",
       "    <tr>\n",
       "      <td>1</td>\n",
       "      <td>6414100192</td>\n",
       "      <td>20141209T000000</td>\n",
       "      <td>538000.0</td>\n",
       "      <td>3.0</td>\n",
       "      <td>2.25</td>\n",
       "      <td>2570.0</td>\n",
       "      <td>7242</td>\n",
       "      <td>2.0</td>\n",
       "      <td>0</td>\n",
       "      <td>0</td>\n",
       "      <td>...</td>\n",
       "      <td>1991</td>\n",
       "      <td>98125</td>\n",
       "      <td>47.7210</td>\n",
       "      <td>-122.319</td>\n",
       "      <td>1690.0</td>\n",
       "      <td>7639.0</td>\n",
       "      <td>50.695167</td>\n",
       "      <td>85.099941</td>\n",
       "      <td>9.0</td>\n",
       "      <td>4.0</td>\n",
       "    </tr>\n",
       "    <tr>\n",
       "      <td>2</td>\n",
       "      <td>5631500400</td>\n",
       "      <td>20150225T000000</td>\n",
       "      <td>180000.0</td>\n",
       "      <td>2.0</td>\n",
       "      <td>1.00</td>\n",
       "      <td>770.0</td>\n",
       "      <td>10000</td>\n",
       "      <td>1.0</td>\n",
       "      <td>0</td>\n",
       "      <td>0</td>\n",
       "      <td>...</td>\n",
       "      <td>0</td>\n",
       "      <td>98028</td>\n",
       "      <td>47.7379</td>\n",
       "      <td>-122.233</td>\n",
       "      <td>2720.0</td>\n",
       "      <td>8062.0</td>\n",
       "      <td>27.748874</td>\n",
       "      <td>100.000000</td>\n",
       "      <td>4.0</td>\n",
       "      <td>1.0</td>\n",
       "    </tr>\n",
       "    <tr>\n",
       "      <td>3</td>\n",
       "      <td>2487200875</td>\n",
       "      <td>20141209T000000</td>\n",
       "      <td>604000.0</td>\n",
       "      <td>4.0</td>\n",
       "      <td>3.00</td>\n",
       "      <td>1960.0</td>\n",
       "      <td>5000</td>\n",
       "      <td>1.0</td>\n",
       "      <td>0</td>\n",
       "      <td>0</td>\n",
       "      <td>...</td>\n",
       "      <td>0</td>\n",
       "      <td>98136</td>\n",
       "      <td>47.5208</td>\n",
       "      <td>-122.393</td>\n",
       "      <td>1360.0</td>\n",
       "      <td>5000.0</td>\n",
       "      <td>44.271887</td>\n",
       "      <td>70.710678</td>\n",
       "      <td>16.0</td>\n",
       "      <td>1.0</td>\n",
       "    </tr>\n",
       "    <tr>\n",
       "      <td>4</td>\n",
       "      <td>1954400510</td>\n",
       "      <td>20150218T000000</td>\n",
       "      <td>510000.0</td>\n",
       "      <td>3.0</td>\n",
       "      <td>2.00</td>\n",
       "      <td>1680.0</td>\n",
       "      <td>8080</td>\n",
       "      <td>1.0</td>\n",
       "      <td>0</td>\n",
       "      <td>0</td>\n",
       "      <td>...</td>\n",
       "      <td>0</td>\n",
       "      <td>98074</td>\n",
       "      <td>47.6168</td>\n",
       "      <td>-122.045</td>\n",
       "      <td>1800.0</td>\n",
       "      <td>7503.0</td>\n",
       "      <td>40.987803</td>\n",
       "      <td>89.888820</td>\n",
       "      <td>9.0</td>\n",
       "      <td>1.0</td>\n",
       "    </tr>\n",
       "  </tbody>\n",
       "</table>\n",
       "<p>5 rows × 25 columns</p>\n",
       "</div>"
      ],
      "text/plain": [
       "           id             date     price  bedrooms  bathrooms  sqft_living  \\\n",
       "0  7129300520  20141013T000000  221900.0       3.0       1.00       1180.0   \n",
       "1  6414100192  20141209T000000  538000.0       3.0       2.25       2570.0   \n",
       "2  5631500400  20150225T000000  180000.0       2.0       1.00        770.0   \n",
       "3  2487200875  20141209T000000  604000.0       4.0       3.00       1960.0   \n",
       "4  1954400510  20150218T000000  510000.0       3.0       2.00       1680.0   \n",
       "\n",
       "   sqft_lot  floors  waterfront  view  ...  yr_renovated  zipcode      lat  \\\n",
       "0      5650     1.0           0     0  ...             0    98178  47.5112   \n",
       "1      7242     2.0           0     0  ...          1991    98125  47.7210   \n",
       "2     10000     1.0           0     0  ...             0    98028  47.7379   \n",
       "3      5000     1.0           0     0  ...             0    98136  47.5208   \n",
       "4      8080     1.0           0     0  ...             0    98074  47.6168   \n",
       "\n",
       "      long  sqft_living15  sqft_lot15 sqft_living_sqrt  sqft_lot_sqrt  \\\n",
       "0 -122.257         1340.0      5650.0        34.351128      75.166482   \n",
       "1 -122.319         1690.0      7639.0        50.695167      85.099941   \n",
       "2 -122.233         2720.0      8062.0        27.748874     100.000000   \n",
       "3 -122.393         1360.0      5000.0        44.271887      70.710678   \n",
       "4 -122.045         1800.0      7503.0        40.987803      89.888820   \n",
       "\n",
       "   bedrooms_square  floors_square  \n",
       "0              9.0            1.0  \n",
       "1              9.0            4.0  \n",
       "2              4.0            1.0  \n",
       "3             16.0            1.0  \n",
       "4              9.0            1.0  \n",
       "\n",
       "[5 rows x 25 columns]"
      ]
     },
     "execution_count": 111,
     "metadata": {},
     "output_type": "execute_result"
    }
   ],
   "source": [
    "house_data['sqft_living_sqrt'] = np.sqrt(house_data['sqft_living'])\n",
    "house_data['sqft_lot_sqrt'] = np.sqrt(house_data['sqft_lot'])\n",
    "house_data['bedrooms_square'] = np.square(house_data['bedrooms'])\n",
    "house_data['floors_square'] = np.square(house_data['floors'])\n",
    "house_data.head()"
   ]
  },
  {
   "cell_type": "code",
   "execution_count": 112,
   "metadata": {},
   "outputs": [],
   "source": [
    "all_features = ['bedrooms', 'bedrooms_square',\n",
    "            'bathrooms',\n",
    "            'sqft_living', 'sqft_living_sqrt',\n",
    "            'sqft_lot', 'sqft_lot_sqrt',\n",
    "            'floors', 'floors_square',\n",
    "            'waterfront', 'view', 'condition', 'grade',\n",
    "            'sqft_above',\n",
    "            'sqft_basement',\n",
    "            'yr_built', 'yr_renovated']"
   ]
  },
  {
   "cell_type": "markdown",
   "metadata": {},
   "source": [
    "# Applying Lasso Regression"
   ]
  },
  {
   "cell_type": "code",
   "execution_count": 113,
   "metadata": {},
   "outputs": [],
   "source": [
    "model = Lasso(alpha=5e2,normalize = True)"
   ]
  },
  {
   "cell_type": "code",
   "execution_count": 114,
   "metadata": {},
   "outputs": [
    {
     "name": "stdout",
     "output_type": "stream",
     "text": [
      "(21613, 17) (21613, 1)\n"
     ]
    },
    {
     "data": {
      "text/plain": [
       "Lasso(alpha=500.0, copy_X=True, fit_intercept=True, max_iter=1000,\n",
       "      normalize=True, positive=False, precompute=False, random_state=None,\n",
       "      selection='cyclic', tol=0.0001, warm_start=False)"
      ]
     },
     "execution_count": 114,
     "metadata": {},
     "output_type": "execute_result"
    }
   ],
   "source": [
    "X = np.array(house_data[all_features])\n",
    "Y = np.array(house_data['price']).reshape(-1,1)\n",
    "print(X.shape,Y.shape)\n",
    "model.fit(X,Y)"
   ]
  },
  {
   "cell_type": "code",
   "execution_count": 115,
   "metadata": {},
   "outputs": [
    {
     "data": {
      "text/plain": [
       "array([    0.        ,     0.        ,     0.        ,   134.43931396,\n",
       "           0.        ,     0.        ,     0.        ,     0.        ,\n",
       "           0.        ,     0.        , 24750.00458561,     0.        ,\n",
       "       61749.10309071,     0.        ,     0.        ,    -0.        ,\n",
       "           0.        ])"
      ]
     },
     "execution_count": 115,
     "metadata": {},
     "output_type": "execute_result"
    }
   ],
   "source": [
    "model.coef_"
   ]
  },
  {
   "cell_type": "markdown",
   "metadata": {},
   "source": [
    "# Choosing good L1 penalty(alpha) value"
   ]
  },
  {
   "cell_type": "code",
   "execution_count": 116,
   "metadata": {},
   "outputs": [],
   "source": [
    "testing = pd.read_csv('wk3_kc_house_test_data.csv', dtype=dtype_dict)\n",
    "training = pd.read_csv('wk3_kc_house_train_data.csv', dtype=dtype_dict)\n",
    "validation = pd.read_csv('wk3_kc_house_valid_data.csv', dtype=dtype_dict)"
   ]
  },
  {
   "cell_type": "code",
   "execution_count": 117,
   "metadata": {},
   "outputs": [],
   "source": [
    "testing['sqft_living_sqrt'] = np.sqrt(testing['sqft_living'])\n",
    "testing['sqft_lot_sqrt'] = np.sqrt(testing['sqft_lot'])\n",
    "testing['bedrooms_square'] = np.square(testing['bedrooms'])\n",
    "testing['floors_square'] = np.square(testing['floors'])\n",
    "\n",
    "training['sqft_living_sqrt'] = np.sqrt(training['sqft_living'])\n",
    "training['sqft_lot_sqrt'] = np.sqrt(training['sqft_lot'])\n",
    "training['bedrooms_square'] = np.square(training['bedrooms'])\n",
    "training['floors_square'] = np.square(training['floors'])\n",
    "\n",
    "validation['sqft_living_sqrt'] = np.sqrt(validation['sqft_living'])\n",
    "validation['sqft_lot_sqrt'] = np.sqrt(validation['sqft_lot'])\n",
    "validation['bedrooms_square'] = np.square(validation['bedrooms'])\n",
    "validation['floors_square'] = np.square(validation['floors'])"
   ]
  },
  {
   "cell_type": "code",
   "execution_count": 87,
   "metadata": {},
   "outputs": [],
   "source": [
    "l1_penalty = np.logspace(1,7,num=13)"
   ]
  },
  {
   "cell_type": "code",
   "execution_count": 88,
   "metadata": {},
   "outputs": [
    {
     "data": {
      "text/plain": [
       "array([1.00000000e+01, 3.16227766e+01, 1.00000000e+02, 3.16227766e+02,\n",
       "       1.00000000e+03, 3.16227766e+03, 1.00000000e+04, 3.16227766e+04,\n",
       "       1.00000000e+05, 3.16227766e+05, 1.00000000e+06, 3.16227766e+06,\n",
       "       1.00000000e+07])"
      ]
     },
     "execution_count": 88,
     "metadata": {},
     "output_type": "execute_result"
    }
   ],
   "source": [
    "l1_penalty"
   ]
  },
  {
   "cell_type": "code",
   "execution_count": 138,
   "metadata": {},
   "outputs": [],
   "source": [
    "rss = {}\n",
    "non_zeros = {}\n",
    "for i in np.logspace(1,7,num=13):\n",
    "    model = Lasso(alpha=i, normalize=True)\n",
    "    X_train = np.array(training[all_features])\n",
    "    Y_train = np.array(training['price']).reshape(-1,1)\n",
    "    X_val = np.array(validation[all_features])\n",
    "    Y_val = np.array(validation['price']).reshape(-1,1)\n",
    "    \n",
    "    model.fit(X_train,Y_train)\n",
    "    non_zeros[str(i)] = np.count_nonzero(model.coef_) + np.count_nonzero(model.intercept_)\n",
    "    rss[str(i)] = np.sum(np.square(( model.predict(X_val) - Y_val  )))"
   ]
  },
  {
   "cell_type": "code",
   "execution_count": 139,
   "metadata": {},
   "outputs": [
    {
     "data": {
      "text/plain": [
       "{'10.0': 2.066303599497208e+19,\n",
       " '31.622776601683793': 2.0106031260560675e+19,\n",
       " '100.0': 1.9298508281926636e+19,\n",
       " '316.22776601683796': 1.7639721942371875e+19,\n",
       " '1000.0': 1.4481232585702595e+19,\n",
       " '3162.2776601683795': 1.1778853590580718e+19,\n",
       " '10000.0': 1.1778853590580718e+19,\n",
       " '31622.776601683792': 1.1778853590580718e+19,\n",
       " '100000.0': 1.1778853590580718e+19,\n",
       " '316227.7660168379': 1.1778853590580718e+19,\n",
       " '1000000.0': 1.1778853590580718e+19,\n",
       " '3162277.6601683795': 1.1778853590580718e+19,\n",
       " '10000000.0': 1.1778853590580718e+19}"
      ]
     },
     "execution_count": 139,
     "metadata": {},
     "output_type": "execute_result"
    }
   ],
   "source": [
    "rss"
   ]
  },
  {
   "cell_type": "code",
   "execution_count": 140,
   "metadata": {},
   "outputs": [
    {
     "data": {
      "text/plain": [
       "{'10.0': 15,\n",
       " '31.622776601683793': 15,\n",
       " '100.0': 11,\n",
       " '316.22776601683796': 6,\n",
       " '1000.0': 4,\n",
       " '3162.2776601683795': 1,\n",
       " '10000.0': 1,\n",
       " '31622.776601683792': 1,\n",
       " '100000.0': 1,\n",
       " '316227.7660168379': 1,\n",
       " '1000000.0': 1,\n",
       " '3162277.6601683795': 1,\n",
       " '10000000.0': 1}"
      ]
     },
     "execution_count": 140,
     "metadata": {},
     "output_type": "execute_result"
    }
   ],
   "source": [
    "non_zeros"
   ]
  },
  {
   "cell_type": "code",
   "execution_count": 142,
   "metadata": {},
   "outputs": [
    {
     "data": {
      "text/plain": [
       "array([542734.9516443, 542734.9516443, 542734.9516443, ...,\n",
       "       542734.9516443, 542734.9516443, 542734.9516443])"
      ]
     },
     "execution_count": 142,
     "metadata": {},
     "output_type": "execute_result"
    }
   ],
   "source": [
    "model.predict(X_val)"
   ]
  },
  {
   "cell_type": "code",
   "execution_count": 144,
   "metadata": {},
   "outputs": [
    {
     "data": {
      "text/plain": [
       "array([[221900.],\n",
       "       [538000.],\n",
       "       [180000.],\n",
       "       ...,\n",
       "       [360000.],\n",
       "       [400000.],\n",
       "       [400000.]])"
      ]
     },
     "execution_count": 144,
     "metadata": {},
     "output_type": "execute_result"
    }
   ],
   "source": [
    "Y_val"
   ]
  },
  {
   "cell_type": "code",
   "execution_count": 141,
   "metadata": {},
   "outputs": [
    {
     "data": {
      "text/plain": [
       "1.1778853590580718e+19"
      ]
     },
     "execution_count": 141,
     "metadata": {},
     "output_type": "execute_result"
    }
   ],
   "source": [
    "np.min(list(rss.values()))"
   ]
  },
  {
   "cell_type": "markdown",
   "metadata": {},
   "source": [
    "# Choosing model with limited no of features"
   ]
  },
  {
   "cell_type": "code",
   "execution_count": 33,
   "metadata": {},
   "outputs": [],
   "source": [
    "max_nonzero = 7"
   ]
  },
  {
   "cell_type": "code",
   "execution_count": 45,
   "metadata": {},
   "outputs": [],
   "source": [
    "non_zeros = {}\n",
    "for i in np.logspace(1, 4, num=20):\n",
    "    model = Lasso(alpha=i, normalize=True)\n",
    "    X_train = np.array(training[all_features])\n",
    "    Y_train = np.array(training['price']).reshape(-1,1)\n",
    "\n",
    "    model.fit(X_train,Y_train)\n",
    "    count = 0\n",
    "    if(model.intercept_ != 0):\n",
    "        count += 1\n",
    "    count += np.count_nonzero(model.coef_)\n",
    "    non_zeros[str(i)] = count\n",
    "    "
   ]
  },
  {
   "cell_type": "code",
   "execution_count": 46,
   "metadata": {},
   "outputs": [
    {
     "data": {
      "text/plain": [
       "{'10.0': 15,\n",
       " '14.38449888287663': 15,\n",
       " '20.6913808111479': 15,\n",
       " '29.76351441631318': 15,\n",
       " '42.81332398719393': 13,\n",
       " '61.58482110660264': 12,\n",
       " '88.58667904100822': 11,\n",
       " '127.42749857031335': 10,\n",
       " '183.29807108324357': 7,\n",
       " '263.6650898730358': 6,\n",
       " '379.26901907322497': 6,\n",
       " '545.5594781168514': 6,\n",
       " '784.7599703514607': 5,\n",
       " '1128.8378916846884': 3,\n",
       " '1623.776739188721': 3,\n",
       " '2335.7214690901214': 2,\n",
       " '3359.818286283781': 1,\n",
       " '4832.930238571752': 1,\n",
       " '6951.927961775606': 1,\n",
       " '10000.0': 1}"
      ]
     },
     "execution_count": 46,
     "metadata": {},
     "output_type": "execute_result"
    }
   ],
   "source": [
    "non_zeros"
   ]
  },
  {
   "cell_type": "code",
   "execution_count": 47,
   "metadata": {},
   "outputs": [],
   "source": [
    "l1_penalty_min = 127.42749857031335"
   ]
  },
  {
   "cell_type": "code",
   "execution_count": 48,
   "metadata": {},
   "outputs": [],
   "source": [
    "l1_penalty_max = 263.6650898730358"
   ]
  },
  {
   "cell_type": "code",
   "execution_count": 54,
   "metadata": {},
   "outputs": [],
   "source": [
    "\n",
    "rss = {}\n",
    "non_zeros = {}\n",
    "for i in np.linspace(l1_penalty_min,l1_penalty_max,20):\n",
    "    model = Lasso(alpha=i, normalize=True)\n",
    "    X_train = np.array(training[all_features])\n",
    "    Y_train = np.array(training['price']).reshape(-1,1)\n",
    "    X_val = np.array(validation[all_features])\n",
    "    Y_val = np.array(validation['price']).reshape(-1,1)\n",
    "    \n",
    "    model.fit(X_train,Y_train)\n",
    "    count = 0\n",
    "    if(model.intercept_ != 0):\n",
    "        count += 1\n",
    "    count += np.count_nonzero(model.coef_)\n",
    "    non_zeros[str(i)] = count\n",
    "    rss[str(i)] = np.sum(np.square(Y_val - model.predict(X_val)))\n",
    "    \n",
    "    "
   ]
  },
  {
   "cell_type": "code",
   "execution_count": 55,
   "metadata": {},
   "outputs": [
    {
     "data": {
      "text/plain": [
       "{'127.42749857031335': 10,\n",
       " '134.5978981125619': 10,\n",
       " '141.76829765481045': 8,\n",
       " '148.938697197059': 8,\n",
       " '156.10909673930755': 7,\n",
       " '163.2794962815561': 7,\n",
       " '170.44989582380464': 7,\n",
       " '177.6202953660532': 7,\n",
       " '184.79069490830176': 7,\n",
       " '191.96109445055032': 7,\n",
       " '199.13149399279888': 7,\n",
       " '206.3018935350474': 6,\n",
       " '213.47229307729594': 6,\n",
       " '220.6426926195445': 6,\n",
       " '227.81309216179307': 6,\n",
       " '234.98349170404163': 6,\n",
       " '242.1538912462902': 6,\n",
       " '249.32429078853872': 6,\n",
       " '256.49469033078725': 6,\n",
       " '263.6650898730358': 6}"
      ]
     },
     "execution_count": 55,
     "metadata": {},
     "output_type": "execute_result"
    }
   ],
   "source": [
    "non_zeros"
   ]
  },
  {
   "cell_type": "code",
   "execution_count": 56,
   "metadata": {},
   "outputs": [
    {
     "data": {
      "text/plain": [
       "{'127.42749857031335': 1.9062915849580188e+19,\n",
       " '134.5978981125619': 1.9003350142621778e+19,\n",
       " '141.76829765481045': 1.894402443547697e+19,\n",
       " '148.938697197059': 1.8884840610155766e+19,\n",
       " '156.10909673930755': 1.8826306254270337e+19,\n",
       " '163.2794962815561': 1.8768284170526065e+19,\n",
       " '170.44989582380464': 1.8710769218261656e+19,\n",
       " '177.6202953660532': 1.865374149010483e+19,\n",
       " '184.79069490830176': 1.859720014731415e+19,\n",
       " '191.96109445055032': 1.8541125856423203e+19,\n",
       " '199.13149399279888': 1.8485564115784245e+19,\n",
       " '206.3018935350474': 1.8430705449263784e+19,\n",
       " '213.47229307729594': 1.8376255341417996e+19,\n",
       " '220.6426926195445': 1.8322202053106878e+19,\n",
       " '227.81309216179307': 1.826854621244579e+19,\n",
       " '234.98349170404163': 1.8215287819434514e+19,\n",
       " '242.1538912462902': 1.816242739384397e+19,\n",
       " '249.32429078853872': 1.8110072709701638e+19,\n",
       " '256.49469033078725': 1.8058006604087265e+19,\n",
       " '263.6650898730358': 1.8006337459331027e+19}"
      ]
     },
     "execution_count": 56,
     "metadata": {},
     "output_type": "execute_result"
    }
   ],
   "source": [
    "rss"
   ]
  },
  {
   "cell_type": "code",
   "execution_count": 58,
   "metadata": {},
   "outputs": [
    {
     "data": {
      "text/plain": [
       "1.8485564115784245e+19"
      ]
     },
     "execution_count": 58,
     "metadata": {},
     "output_type": "execute_result"
    }
   ],
   "source": [
    "np.min(list(rss.values())[4:11])"
   ]
  },
  {
   "cell_type": "code",
   "execution_count": 59,
   "metadata": {},
   "outputs": [
    {
     "name": "stdout",
     "output_type": "stream",
     "text": [
      "[-0.00000000e+00 -0.00000000e+00  1.49058857e+03  1.66278312e+02\n",
      "  0.00000000e+00 -0.00000000e+00 -0.00000000e+00  0.00000000e+00\n",
      "  0.00000000e+00  4.72160342e+05  4.12319841e+04  0.00000000e+00\n",
      "  1.11748709e+05  0.00000000e+00  0.00000000e+00 -2.29831279e+03\n",
      "  0.00000000e+00] [3851757.14100311]\n"
     ]
    }
   ],
   "source": [
    "model = Lasso(alpha=199.13149399279888, normalize=True)\n",
    "X_train = np.array(training[all_features])\n",
    "Y_train = np.array(training['price']).reshape(-1,1)\n",
    "\n",
    "model.fit(X_train,Y_train)\n",
    "print(model.coef_ ,model.intercept_)"
   ]
  },
  {
   "cell_type": "code",
   "execution_count": 60,
   "metadata": {},
   "outputs": [
    {
     "data": {
      "text/plain": [
       "['bedrooms',\n",
       " 'bedrooms_square',\n",
       " 'bathrooms',\n",
       " 'sqft_living',\n",
       " 'sqft_living_sqrt',\n",
       " 'sqft_lot',\n",
       " 'sqft_lot_sqrt',\n",
       " 'floors',\n",
       " 'floors_square',\n",
       " 'waterfront',\n",
       " 'view',\n",
       " 'condition',\n",
       " 'grade',\n",
       " 'sqft_above',\n",
       " 'sqft_basement',\n",
       " 'yr_built',\n",
       " 'yr_renovated']"
      ]
     },
     "execution_count": 60,
     "metadata": {},
     "output_type": "execute_result"
    }
   ],
   "source": [
    "all_features"
   ]
  },
  {
   "cell_type": "code",
   "execution_count": null,
   "metadata": {},
   "outputs": [],
   "source": []
  },
  {
   "cell_type": "markdown",
   "metadata": {},
   "source": [
    "# Questions\n",
    "3. Quiz Question: Which features have been chosen by LASSO, i.e. which features were assigned nonzero weights?\n",
    "##### ANS: sqft_living, waterfront,condition\n",
    "6. Quiz Question: Which was the best value for the l1_penalty, i.e. which value of l1_penalty produced the lowest RSS on VALIDATION data?\n",
    "##### ANS:  3.16227766e+03\n",
    "8. Quiz Question: Using the best L1 penalty, how many nonzero weights do you have? Count the number of nonzero coefficients first, and add 1 if the intercept is also nonzero.\n",
    "##### ANS: 1\n",
    "13. Quiz Question: What values did you find for l1_penalty_min and l1_penalty_max?\n",
    "##### ANS: 127.42749857031335 , 263.6650898730358\n",
    "15. Quiz Question: What value of l1_penalty in our narrow range has the lowest RSS on the VALIDATION set and has sparsity equal to ‘max_nonzeros’?\n",
    "##### ANS: 199.13149399279888\n",
    "16. Quiz Question: What features in this model have non-zero coefficients?\n",
    "##### ANS: bathrooms', 'sqft_living', 'waterfront', 'view', 'grade', yr_built"
   ]
  },
  {
   "cell_type": "code",
   "execution_count": 61,
   "metadata": {},
   "outputs": [
    {
     "data": {
      "text/plain": [
       "264.0"
      ]
     },
     "execution_count": 61,
     "metadata": {},
     "output_type": "execute_result"
    }
   ],
   "source": [
    "np.round(263.6650898730358,0)"
   ]
  },
  {
   "cell_type": "code",
   "execution_count": 146,
   "metadata": {},
   "outputs": [
    {
     "data": {
      "text/plain": [
       "8"
      ]
     },
     "execution_count": 146,
     "metadata": {},
     "output_type": "execute_result"
    }
   ],
   "source": []
  },
  {
   "cell_type": "code",
   "execution_count": null,
   "metadata": {},
   "outputs": [],
   "source": []
  }
 ],
 "metadata": {
  "kernelspec": {
   "display_name": "Python 3",
   "language": "python",
   "name": "python3"
  },
  "language_info": {
   "codemirror_mode": {
    "name": "ipython",
    "version": 3
   },
   "file_extension": ".py",
   "mimetype": "text/x-python",
   "name": "python",
   "nbconvert_exporter": "python",
   "pygments_lexer": "ipython3",
   "version": "3.7.4"
  }
 },
 "nbformat": 4,
 "nbformat_minor": 2
}
