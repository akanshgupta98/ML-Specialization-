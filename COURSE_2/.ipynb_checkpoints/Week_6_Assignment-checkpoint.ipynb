{
 "cells": [
  {
   "cell_type": "code",
   "execution_count": 98,
   "metadata": {},
   "outputs": [],
   "source": [
    "import pandas as pd\n",
    "import numpy as np\n",
    "import matplotlib.pyplot as plt\n",
    "plt.style.use('seaborn')"
   ]
  },
  {
   "cell_type": "code",
   "execution_count": 99,
   "metadata": {},
   "outputs": [],
   "source": [
    "dtype_dict = {'bathrooms':float, 'waterfront':int, 'sqft_above':int, 'sqft_living15':float, 'grade':int, 'yr_renovated':int, 'price':float, 'bedrooms':float, 'zipcode':str, 'long':float, 'sqft_lot15':float, 'sqft_living':float, 'floors':float, 'condition':int, 'lat':float, 'date':str, 'sqft_basement':int, 'yr_built':int, 'id':str, 'sqft_lot':int, 'view':int}"
   ]
  },
  {
   "cell_type": "code",
   "execution_count": null,
   "metadata": {},
   "outputs": [],
   "source": []
  },
  {
   "cell_type": "markdown",
   "metadata": {},
   "source": [
    "# Loading Dataset"
   ]
  },
  {
   "cell_type": "code",
   "execution_count": 100,
   "metadata": {},
   "outputs": [
    {
     "name": "stdout",
     "output_type": "stream",
     "text": [
      "(8703, 21) (5527, 21) (1741, 21) (1435, 21)\n"
     ]
    }
   ],
   "source": [
    "house_data = pd.read_csv('kc_house_data_small.csv',dtype=dtype_dict)\n",
    "house_data_train = pd.read_csv('kc_house_data_small_train.csv',dtype = dtype_dict)\n",
    "house_data_test = pd.read_csv('kc_house_data_small_test.csv',dtype= dtype_dict)\n",
    "house_data_val = pd.read_csv('kc_house_data_validation.csv',dtype= dtype_dict)\n",
    "print(house_data.shape,house_data_train.shape,house_data_test.shape,house_data_val.shape)"
   ]
  },
  {
   "cell_type": "code",
   "execution_count": 101,
   "metadata": {},
   "outputs": [],
   "source": [
    "def get_numpy_data(dataset,features,output):\n",
    "    dataset['constant'] = 1\n",
    "    features.insert(0,'constant')\n",
    "    X = np.array(dataset[features])\n",
    "    Y = np.array(dataset[output]).reshape(-1,1)\n",
    "    features.remove('constant')\n",
    "    return X,Y\n",
    "    "
   ]
  },
  {
   "cell_type": "code",
   "execution_count": 102,
   "metadata": {},
   "outputs": [],
   "source": [
    "def normalize_features(features):\n",
    "    norms = np.linalg.norm(features, axis=0)\n",
    "    features_normalized = features/norms\n",
    "    return features_normalized,norms"
   ]
  },
  {
   "cell_type": "code",
   "execution_count": 103,
   "metadata": {},
   "outputs": [
    {
     "data": {
      "text/html": [
       "<div>\n",
       "<style scoped>\n",
       "    .dataframe tbody tr th:only-of-type {\n",
       "        vertical-align: middle;\n",
       "    }\n",
       "\n",
       "    .dataframe tbody tr th {\n",
       "        vertical-align: top;\n",
       "    }\n",
       "\n",
       "    .dataframe thead th {\n",
       "        text-align: right;\n",
       "    }\n",
       "</style>\n",
       "<table border=\"1\" class=\"dataframe\">\n",
       "  <thead>\n",
       "    <tr style=\"text-align: right;\">\n",
       "      <th></th>\n",
       "      <th>id</th>\n",
       "      <th>date</th>\n",
       "      <th>price</th>\n",
       "      <th>bedrooms</th>\n",
       "      <th>bathrooms</th>\n",
       "      <th>sqft_living</th>\n",
       "      <th>sqft_lot</th>\n",
       "      <th>floors</th>\n",
       "      <th>waterfront</th>\n",
       "      <th>view</th>\n",
       "      <th>...</th>\n",
       "      <th>grade</th>\n",
       "      <th>sqft_above</th>\n",
       "      <th>sqft_basement</th>\n",
       "      <th>yr_built</th>\n",
       "      <th>yr_renovated</th>\n",
       "      <th>zipcode</th>\n",
       "      <th>lat</th>\n",
       "      <th>long</th>\n",
       "      <th>sqft_living15</th>\n",
       "      <th>sqft_lot15</th>\n",
       "    </tr>\n",
       "  </thead>\n",
       "  <tbody>\n",
       "    <tr>\n",
       "      <td>0</td>\n",
       "      <td>9297300055</td>\n",
       "      <td>20150124T000000</td>\n",
       "      <td>650000.0</td>\n",
       "      <td>4.0</td>\n",
       "      <td>3.00</td>\n",
       "      <td>2950.0</td>\n",
       "      <td>5000</td>\n",
       "      <td>2.0</td>\n",
       "      <td>0</td>\n",
       "      <td>3</td>\n",
       "      <td>...</td>\n",
       "      <td>9</td>\n",
       "      <td>1980</td>\n",
       "      <td>970</td>\n",
       "      <td>1979</td>\n",
       "      <td>0</td>\n",
       "      <td>98126</td>\n",
       "      <td>47.5714</td>\n",
       "      <td>-122.375</td>\n",
       "      <td>2140.0</td>\n",
       "      <td>4000.0</td>\n",
       "    </tr>\n",
       "    <tr>\n",
       "      <td>1</td>\n",
       "      <td>6865200140</td>\n",
       "      <td>20140529T000000</td>\n",
       "      <td>485000.0</td>\n",
       "      <td>4.0</td>\n",
       "      <td>1.00</td>\n",
       "      <td>1600.0</td>\n",
       "      <td>4300</td>\n",
       "      <td>1.5</td>\n",
       "      <td>0</td>\n",
       "      <td>0</td>\n",
       "      <td>...</td>\n",
       "      <td>7</td>\n",
       "      <td>1600</td>\n",
       "      <td>0</td>\n",
       "      <td>1916</td>\n",
       "      <td>0</td>\n",
       "      <td>98103</td>\n",
       "      <td>47.6648</td>\n",
       "      <td>-122.343</td>\n",
       "      <td>1610.0</td>\n",
       "      <td>4300.0</td>\n",
       "    </tr>\n",
       "    <tr>\n",
       "      <td>2</td>\n",
       "      <td>5101402488</td>\n",
       "      <td>20140624T000000</td>\n",
       "      <td>438000.0</td>\n",
       "      <td>3.0</td>\n",
       "      <td>1.75</td>\n",
       "      <td>1520.0</td>\n",
       "      <td>6380</td>\n",
       "      <td>1.0</td>\n",
       "      <td>0</td>\n",
       "      <td>0</td>\n",
       "      <td>...</td>\n",
       "      <td>7</td>\n",
       "      <td>790</td>\n",
       "      <td>730</td>\n",
       "      <td>1948</td>\n",
       "      <td>0</td>\n",
       "      <td>98115</td>\n",
       "      <td>47.6950</td>\n",
       "      <td>-122.304</td>\n",
       "      <td>1520.0</td>\n",
       "      <td>6235.0</td>\n",
       "    </tr>\n",
       "    <tr>\n",
       "      <td>3</td>\n",
       "      <td>7589200193</td>\n",
       "      <td>20141110T000000</td>\n",
       "      <td>535000.0</td>\n",
       "      <td>3.0</td>\n",
       "      <td>1.00</td>\n",
       "      <td>1090.0</td>\n",
       "      <td>3000</td>\n",
       "      <td>1.5</td>\n",
       "      <td>0</td>\n",
       "      <td>0</td>\n",
       "      <td>...</td>\n",
       "      <td>8</td>\n",
       "      <td>1090</td>\n",
       "      <td>0</td>\n",
       "      <td>1929</td>\n",
       "      <td>0</td>\n",
       "      <td>98117</td>\n",
       "      <td>47.6889</td>\n",
       "      <td>-122.375</td>\n",
       "      <td>1570.0</td>\n",
       "      <td>5080.0</td>\n",
       "    </tr>\n",
       "    <tr>\n",
       "      <td>4</td>\n",
       "      <td>4178300310</td>\n",
       "      <td>20140716T000000</td>\n",
       "      <td>785000.0</td>\n",
       "      <td>4.0</td>\n",
       "      <td>2.50</td>\n",
       "      <td>2290.0</td>\n",
       "      <td>13416</td>\n",
       "      <td>2.0</td>\n",
       "      <td>0</td>\n",
       "      <td>0</td>\n",
       "      <td>...</td>\n",
       "      <td>9</td>\n",
       "      <td>2290</td>\n",
       "      <td>0</td>\n",
       "      <td>1981</td>\n",
       "      <td>0</td>\n",
       "      <td>98007</td>\n",
       "      <td>47.6194</td>\n",
       "      <td>-122.151</td>\n",
       "      <td>2680.0</td>\n",
       "      <td>13685.0</td>\n",
       "    </tr>\n",
       "    <tr>\n",
       "      <td>...</td>\n",
       "      <td>...</td>\n",
       "      <td>...</td>\n",
       "      <td>...</td>\n",
       "      <td>...</td>\n",
       "      <td>...</td>\n",
       "      <td>...</td>\n",
       "      <td>...</td>\n",
       "      <td>...</td>\n",
       "      <td>...</td>\n",
       "      <td>...</td>\n",
       "      <td>...</td>\n",
       "      <td>...</td>\n",
       "      <td>...</td>\n",
       "      <td>...</td>\n",
       "      <td>...</td>\n",
       "      <td>...</td>\n",
       "      <td>...</td>\n",
       "      <td>...</td>\n",
       "      <td>...</td>\n",
       "      <td>...</td>\n",
       "      <td>...</td>\n",
       "    </tr>\n",
       "    <tr>\n",
       "      <td>1736</td>\n",
       "      <td>9521100867</td>\n",
       "      <td>20140711T000000</td>\n",
       "      <td>475000.0</td>\n",
       "      <td>3.0</td>\n",
       "      <td>3.25</td>\n",
       "      <td>1380.0</td>\n",
       "      <td>1121</td>\n",
       "      <td>3.0</td>\n",
       "      <td>0</td>\n",
       "      <td>0</td>\n",
       "      <td>...</td>\n",
       "      <td>8</td>\n",
       "      <td>1380</td>\n",
       "      <td>0</td>\n",
       "      <td>2008</td>\n",
       "      <td>0</td>\n",
       "      <td>98103</td>\n",
       "      <td>47.6617</td>\n",
       "      <td>-122.349</td>\n",
       "      <td>1310.0</td>\n",
       "      <td>1405.0</td>\n",
       "    </tr>\n",
       "    <tr>\n",
       "      <td>1737</td>\n",
       "      <td>2625069038</td>\n",
       "      <td>20141124T000000</td>\n",
       "      <td>1450000.0</td>\n",
       "      <td>4.0</td>\n",
       "      <td>3.50</td>\n",
       "      <td>4300.0</td>\n",
       "      <td>108865</td>\n",
       "      <td>2.0</td>\n",
       "      <td>0</td>\n",
       "      <td>0</td>\n",
       "      <td>...</td>\n",
       "      <td>11</td>\n",
       "      <td>4300</td>\n",
       "      <td>0</td>\n",
       "      <td>2014</td>\n",
       "      <td>0</td>\n",
       "      <td>98074</td>\n",
       "      <td>47.6258</td>\n",
       "      <td>-122.005</td>\n",
       "      <td>4650.0</td>\n",
       "      <td>107498.0</td>\n",
       "    </tr>\n",
       "    <tr>\n",
       "      <td>1738</td>\n",
       "      <td>8562780180</td>\n",
       "      <td>20140612T000000</td>\n",
       "      <td>336750.0</td>\n",
       "      <td>2.0</td>\n",
       "      <td>2.25</td>\n",
       "      <td>1170.0</td>\n",
       "      <td>1011</td>\n",
       "      <td>2.0</td>\n",
       "      <td>0</td>\n",
       "      <td>0</td>\n",
       "      <td>...</td>\n",
       "      <td>7</td>\n",
       "      <td>1170</td>\n",
       "      <td>0</td>\n",
       "      <td>2009</td>\n",
       "      <td>0</td>\n",
       "      <td>98027</td>\n",
       "      <td>47.5321</td>\n",
       "      <td>-122.073</td>\n",
       "      <td>1240.0</td>\n",
       "      <td>750.0</td>\n",
       "    </tr>\n",
       "    <tr>\n",
       "      <td>1739</td>\n",
       "      <td>3345700207</td>\n",
       "      <td>20150502T000000</td>\n",
       "      <td>608500.0</td>\n",
       "      <td>4.0</td>\n",
       "      <td>3.50</td>\n",
       "      <td>2850.0</td>\n",
       "      <td>5577</td>\n",
       "      <td>2.0</td>\n",
       "      <td>0</td>\n",
       "      <td>0</td>\n",
       "      <td>...</td>\n",
       "      <td>8</td>\n",
       "      <td>1950</td>\n",
       "      <td>900</td>\n",
       "      <td>2014</td>\n",
       "      <td>0</td>\n",
       "      <td>98056</td>\n",
       "      <td>47.5252</td>\n",
       "      <td>-122.192</td>\n",
       "      <td>2850.0</td>\n",
       "      <td>5708.0</td>\n",
       "    </tr>\n",
       "    <tr>\n",
       "      <td>1740</td>\n",
       "      <td>0844000965</td>\n",
       "      <td>20140626T000000</td>\n",
       "      <td>224000.0</td>\n",
       "      <td>3.0</td>\n",
       "      <td>1.75</td>\n",
       "      <td>1500.0</td>\n",
       "      <td>11968</td>\n",
       "      <td>1.0</td>\n",
       "      <td>0</td>\n",
       "      <td>0</td>\n",
       "      <td>...</td>\n",
       "      <td>6</td>\n",
       "      <td>1500</td>\n",
       "      <td>0</td>\n",
       "      <td>2014</td>\n",
       "      <td>0</td>\n",
       "      <td>98010</td>\n",
       "      <td>47.3095</td>\n",
       "      <td>-122.002</td>\n",
       "      <td>1320.0</td>\n",
       "      <td>11303.0</td>\n",
       "    </tr>\n",
       "  </tbody>\n",
       "</table>\n",
       "<p>1741 rows × 21 columns</p>\n",
       "</div>"
      ],
      "text/plain": [
       "              id             date      price  bedrooms  bathrooms  \\\n",
       "0     9297300055  20150124T000000   650000.0       4.0       3.00   \n",
       "1     6865200140  20140529T000000   485000.0       4.0       1.00   \n",
       "2     5101402488  20140624T000000   438000.0       3.0       1.75   \n",
       "3     7589200193  20141110T000000   535000.0       3.0       1.00   \n",
       "4     4178300310  20140716T000000   785000.0       4.0       2.50   \n",
       "...          ...              ...        ...       ...        ...   \n",
       "1736  9521100867  20140711T000000   475000.0       3.0       3.25   \n",
       "1737  2625069038  20141124T000000  1450000.0       4.0       3.50   \n",
       "1738  8562780180  20140612T000000   336750.0       2.0       2.25   \n",
       "1739  3345700207  20150502T000000   608500.0       4.0       3.50   \n",
       "1740  0844000965  20140626T000000   224000.0       3.0       1.75   \n",
       "\n",
       "      sqft_living  sqft_lot  floors  waterfront  view  ...  grade  sqft_above  \\\n",
       "0          2950.0      5000     2.0           0     3  ...      9        1980   \n",
       "1          1600.0      4300     1.5           0     0  ...      7        1600   \n",
       "2          1520.0      6380     1.0           0     0  ...      7         790   \n",
       "3          1090.0      3000     1.5           0     0  ...      8        1090   \n",
       "4          2290.0     13416     2.0           0     0  ...      9        2290   \n",
       "...           ...       ...     ...         ...   ...  ...    ...         ...   \n",
       "1736       1380.0      1121     3.0           0     0  ...      8        1380   \n",
       "1737       4300.0    108865     2.0           0     0  ...     11        4300   \n",
       "1738       1170.0      1011     2.0           0     0  ...      7        1170   \n",
       "1739       2850.0      5577     2.0           0     0  ...      8        1950   \n",
       "1740       1500.0     11968     1.0           0     0  ...      6        1500   \n",
       "\n",
       "      sqft_basement  yr_built  yr_renovated  zipcode      lat     long  \\\n",
       "0               970      1979             0    98126  47.5714 -122.375   \n",
       "1                 0      1916             0    98103  47.6648 -122.343   \n",
       "2               730      1948             0    98115  47.6950 -122.304   \n",
       "3                 0      1929             0    98117  47.6889 -122.375   \n",
       "4                 0      1981             0    98007  47.6194 -122.151   \n",
       "...             ...       ...           ...      ...      ...      ...   \n",
       "1736              0      2008             0    98103  47.6617 -122.349   \n",
       "1737              0      2014             0    98074  47.6258 -122.005   \n",
       "1738              0      2009             0    98027  47.5321 -122.073   \n",
       "1739            900      2014             0    98056  47.5252 -122.192   \n",
       "1740              0      2014             0    98010  47.3095 -122.002   \n",
       "\n",
       "      sqft_living15  sqft_lot15  \n",
       "0            2140.0      4000.0  \n",
       "1            1610.0      4300.0  \n",
       "2            1520.0      6235.0  \n",
       "3            1570.0      5080.0  \n",
       "4            2680.0     13685.0  \n",
       "...             ...         ...  \n",
       "1736         1310.0      1405.0  \n",
       "1737         4650.0    107498.0  \n",
       "1738         1240.0       750.0  \n",
       "1739         2850.0      5708.0  \n",
       "1740         1320.0     11303.0  \n",
       "\n",
       "[1741 rows x 21 columns]"
      ]
     },
     "execution_count": 103,
     "metadata": {},
     "output_type": "execute_result"
    }
   ],
   "source": [
    "house_data_test"
   ]
  },
  {
   "cell_type": "code",
   "execution_count": 104,
   "metadata": {},
   "outputs": [],
   "source": [
    "feature_list = ['bedrooms',  \n",
    "                'bathrooms',  \n",
    "                'sqft_living',  \n",
    "                'sqft_lot',  \n",
    "                'floors',\n",
    "                'waterfront',  \n",
    "                'view',  \n",
    "                'condition',  \n",
    "                'grade',  \n",
    "                'sqft_above',  \n",
    "                'sqft_basement',\n",
    "                'yr_built',  \n",
    "                'yr_renovated',  \n",
    "                'lat',  \n",
    "                'long',  \n",
    "                'sqft_living15',  \n",
    "                'sqft_lot15']"
   ]
  },
  {
   "cell_type": "code",
   "execution_count": 105,
   "metadata": {},
   "outputs": [
    {
     "name": "stdout",
     "output_type": "stream",
     "text": [
      "(5527, 18) (5527, 1) (1741, 18) (1741, 1) (1435, 18) (1435, 1)\n"
     ]
    }
   ],
   "source": [
    "X_train,Y_train = get_numpy_data(house_data_train,feature_list,['price'])\n",
    "X_test,Y_test = get_numpy_data(house_data_test,feature_list,['price'])\n",
    "X_val,Y_val = get_numpy_data(house_data_val,feature_list,['price'])\n",
    "print(X_train.shape,Y_train.shape,X_test.shape,Y_test.shape,X_val.shape,Y_val.shape)"
   ]
  },
  {
   "cell_type": "code",
   "execution_count": 106,
   "metadata": {},
   "outputs": [
    {
     "name": "stdout",
     "output_type": "stream",
     "text": [
      "(5527, 18) (1741, 18)\n"
     ]
    }
   ],
   "source": [
    "X_train_norm,norms_train = normalize_features(X_train)\n",
    "X_test_norm = X_test/norms_train\n",
    "X_val_norm = X_val/norms_train\n",
    "print(X_train_norm.shape,X_test_norm.shape)"
   ]
  },
  {
   "cell_type": "markdown",
   "metadata": {},
   "source": [
    "# Computing Distance"
   ]
  },
  {
   "cell_type": "code",
   "execution_count": 107,
   "metadata": {},
   "outputs": [
    {
     "name": "stdout",
     "output_type": "stream",
     "text": [
      "[ 0.01345102  0.01551285  0.01807473  0.01759212  0.00160518  0.017059\n",
      "  0.          0.05102365  0.0116321   0.01564352  0.01362084  0.02481682\n",
      "  0.01350306  0.          0.01345387 -0.01346922  0.01375926  0.0016225 ]\n",
      "(18,)\n",
      "[ 0.01345102  0.01163464  0.00602491  0.0083488   0.00050756  0.01279425\n",
      "  0.          0.          0.01938684  0.01390535  0.0096309   0.\n",
      "  0.01302544  0.          0.01346821 -0.01346251  0.01195898  0.00156612]\n",
      "(18,)\n"
     ]
    }
   ],
   "source": [
    "print(X_test_norm[0])\n",
    "print(X_test_norm[0].shape)\n",
    "print(X_train_norm[9])\n",
    "print(X_train_norm[9].shape)"
   ]
  },
  {
   "cell_type": "code",
   "execution_count": 108,
   "metadata": {
    "scrolled": true
   },
   "outputs": [
    {
     "data": {
      "text/plain": [
       "0.05972359371398078"
      ]
     },
     "execution_count": 108,
     "metadata": {},
     "output_type": "execute_result"
    }
   ],
   "source": [
    "np.sqrt(np.sum(np.square(X_test_norm[0] - X_train_norm[9])))"
   ]
  },
  {
   "cell_type": "code",
   "execution_count": null,
   "metadata": {},
   "outputs": [],
   "source": []
  },
  {
   "cell_type": "code",
   "execution_count": null,
   "metadata": {},
   "outputs": [],
   "source": []
  },
  {
   "cell_type": "markdown",
   "metadata": {},
   "source": [
    "# Calculating Distance"
   ]
  },
  {
   "cell_type": "code",
   "execution_count": 109,
   "metadata": {},
   "outputs": [
    {
     "data": {
      "text/plain": [
       "[0.06027470916295592,\n",
       " 0.08546881147643746,\n",
       " 0.06149946435279315,\n",
       " 0.05340273979294363,\n",
       " 0.05844484060170442,\n",
       " 0.059879215098128345,\n",
       " 0.05463140496775461,\n",
       " 0.055431083236146074,\n",
       " 0.052383627840220305,\n",
       " 0.05972359371398078]"
      ]
     },
     "execution_count": 109,
     "metadata": {},
     "output_type": "execute_result"
    }
   ],
   "source": [
    "query_point = X_test_norm[0]\n",
    "distances = []\n",
    "for point in X_train_norm[0:10]:\n",
    "    distances.append(np.sqrt(np.sum(np.square(query_point - point))))\n",
    "distances\n",
    "    "
   ]
  },
  {
   "cell_type": "code",
   "execution_count": 110,
   "metadata": {},
   "outputs": [
    {
     "data": {
      "text/plain": [
       "0.052383627840220305"
      ]
     },
     "execution_count": 110,
     "metadata": {},
     "output_type": "execute_result"
    }
   ],
   "source": [
    "min(distances)"
   ]
  },
  {
   "cell_type": "markdown",
   "metadata": {},
   "source": [
    "# 1-NN Regression"
   ]
  },
  {
   "cell_type": "code",
   "execution_count": 163,
   "metadata": {},
   "outputs": [],
   "source": [
    "query_point = X_test_norm[0]\n",
    "distances = []\n",
    "for point in X_train_norm:\n",
    "    distances.append(np.sqrt(np.sum(np.square(query_point - point))))\n",
    "\n",
    "    "
   ]
  },
  {
   "cell_type": "code",
   "execution_count": 164,
   "metadata": {},
   "outputs": [
    {
     "data": {
      "text/plain": [
       "0.023708232416678195"
      ]
     },
     "execution_count": 164,
     "metadata": {},
     "output_type": "execute_result"
    }
   ],
   "source": [
    "distances[100]"
   ]
  },
  {
   "cell_type": "code",
   "execution_count": 190,
   "metadata": {},
   "outputs": [],
   "source": [
    "def compute_distances(query_point,X):\n",
    "    distance = []\n",
    "    \n",
    "    distance.append(np.sqrt(np.sum(np.square(query_point - X),axis=1)))\n",
    "    return np.array(distance)\n"
   ]
  },
  {
   "cell_type": "code",
   "execution_count": 169,
   "metadata": {},
   "outputs": [
    {
     "name": "stdout",
     "output_type": "stream",
     "text": [
      "[[ 0  0]\n",
      " [ 2  2]\n",
      " [14 24]]\n",
      "[[  0   0]\n",
      " [  4   4]\n",
      " [196 576]]\n",
      "[  0   8 772]\n"
     ]
    }
   ],
   "source": [
    "a = np.array([[1,2],[3,4],[15,26]])\n",
    "b = np.array([1,2])\n",
    "print(a-b)\n",
    "print(np.square(a - b))\n",
    "print(np.sum(np.square(a - b),axis=-1))\n"
   ]
  },
  {
   "cell_type": "code",
   "execution_count": 191,
   "metadata": {},
   "outputs": [
    {
     "data": {
      "text/plain": [
       "382"
      ]
     },
     "execution_count": 191,
     "metadata": {},
     "output_type": "execute_result"
    }
   ],
   "source": [
    "np.argmin(compute_distances(query_point = X_test_norm[2],X = X_train_norm))"
   ]
  },
  {
   "cell_type": "code",
   "execution_count": 175,
   "metadata": {},
   "outputs": [
    {
     "data": {
      "text/plain": [
       "array([249000.])"
      ]
     },
     "execution_count": 175,
     "metadata": {},
     "output_type": "execute_result"
    }
   ],
   "source": [
    "Y_train[382]"
   ]
  },
  {
   "cell_type": "markdown",
   "metadata": {},
   "source": [
    "# K-NN"
   ]
  },
  {
   "cell_type": "code",
   "execution_count": 196,
   "metadata": {},
   "outputs": [],
   "source": [
    "def k_nearest_neighbors(k,query_point,features):\n",
    "    distances = compute_distances(query_point,features)\n",
    "    #print(distances.shape)\n",
    "    return np.argsort(distances)[:,:k]\n",
    "        \n",
    "    "
   ]
  },
  {
   "cell_type": "code",
   "execution_count": 197,
   "metadata": {},
   "outputs": [
    {
     "data": {
      "text/plain": [
       "array([[ 382, 1149, 4087, 3142]])"
      ]
     },
     "execution_count": 197,
     "metadata": {},
     "output_type": "execute_result"
    }
   ],
   "source": [
    "k_nearest_neighbors(k=4,query_point = X_test_norm[2],features = X_train_norm)"
   ]
  },
  {
   "cell_type": "code",
   "execution_count": 198,
   "metadata": {},
   "outputs": [],
   "source": [
    "def k_nn_prediction(k,query_point,features,output):\n",
    "    k_houses_indices = k_nearest_neighbors(k,query_point,features)\n",
    "    k_houses_prices = []\n",
    "    for i in k_houses_indices:\n",
    "        k_houses_prices.append(output[i])\n",
    "    return np.mean(k_houses_prices)\n",
    "    "
   ]
  },
  {
   "cell_type": "code",
   "execution_count": 199,
   "metadata": {},
   "outputs": [
    {
     "data": {
      "text/plain": [
       "413987.5"
      ]
     },
     "execution_count": 199,
     "metadata": {},
     "output_type": "execute_result"
    }
   ],
   "source": [
    "k_nn_prediction(4,X_test_norm[2],X_train_norm,Y_train)"
   ]
  },
  {
   "cell_type": "code",
   "execution_count": 200,
   "metadata": {},
   "outputs": [],
   "source": [
    "def k_nn_regression(k,query_features,features,output):\n",
    "    Y_pred = []\n",
    "    for query_point in query_features:\n",
    "        k_houses_indices = k_nearest_neighbors(k,query_point,features)\n",
    "        k_houses_prices = []\n",
    "        for i in k_houses_indices:\n",
    "            k_houses_prices.append(output[i])\n",
    "        Y_pred.append(np.mean(k_houses_prices))\n",
    "    return Y_pred\n",
    "    "
   ]
  },
  {
   "cell_type": "code",
   "execution_count": 201,
   "metadata": {},
   "outputs": [],
   "source": [
    "Y_pred = k_nn_regression(10,X_test_norm[:10],X_train_norm,Y_train)"
   ]
  },
  {
   "cell_type": "code",
   "execution_count": 202,
   "metadata": {},
   "outputs": [
    {
     "data": {
      "text/plain": [
       "[881300.0,\n",
       " 431860.0,\n",
       " 460595.0,\n",
       " 430200.0,\n",
       " 766750.0,\n",
       " 667420.0,\n",
       " 350032.0,\n",
       " 512800.7,\n",
       " 484000.0,\n",
       " 457235.0]"
      ]
     },
     "execution_count": 202,
     "metadata": {},
     "output_type": "execute_result"
    }
   ],
   "source": [
    "Y_pred"
   ]
  },
  {
   "cell_type": "code",
   "execution_count": 203,
   "metadata": {},
   "outputs": [
    {
     "data": {
      "text/plain": [
       "350032.0"
      ]
     },
     "execution_count": 203,
     "metadata": {},
     "output_type": "execute_result"
    }
   ],
   "source": [
    "np.min(Y_pred)"
   ]
  },
  {
   "cell_type": "markdown",
   "metadata": {},
   "source": [
    "# Best Value of k"
   ]
  },
  {
   "cell_type": "code",
   "execution_count": 206,
   "metadata": {},
   "outputs": [],
   "source": [
    "rss = {}\n",
    "for k in range(1,16):\n",
    "    Y_pred = k_nn_regression(k,X_val_norm,X_train_norm,Y_train)\n",
    "    Y_pred = np.array(Y_pred).reshape(-1,1)\n",
    "    #Y_pred = Y_pred.reshape(-1,1)\n",
    "    rss[str(k)] = np.sum(np.square(Y_val - Y_pred))\n",
    "    "
   ]
  },
  {
   "cell_type": "code",
   "execution_count": 207,
   "metadata": {},
   "outputs": [
    {
     "data": {
      "text/plain": [
       "{'1': 105453830251561.0,\n",
       " '2': 83445073504025.5,\n",
       " '3': 72692096019202.56,\n",
       " '4': 71946721652091.69,\n",
       " '5': 69846517419718.6,\n",
       " '6': 68899544353180.836,\n",
       " '7': 68341973450051.09,\n",
       " '8': 67361678735491.5,\n",
       " '9': 68372727958976.09,\n",
       " '10': 69335048668556.74,\n",
       " '11': 69523855215598.83,\n",
       " '12': 69049969587246.17,\n",
       " '13': 70011254508263.69,\n",
       " '14': 70908698869034.34,\n",
       " '15': 71106928385945.16}"
      ]
     },
     "execution_count": 207,
     "metadata": {},
     "output_type": "execute_result"
    }
   ],
   "source": [
    "rss"
   ]
  },
  {
   "cell_type": "code",
   "execution_count": 209,
   "metadata": {},
   "outputs": [
    {
     "data": {
      "text/plain": [
       "67361678735491.5"
      ]
     },
     "execution_count": 209,
     "metadata": {},
     "output_type": "execute_result"
    }
   ],
   "source": [
    "np.min(list(rss.values()))"
   ]
  },
  {
   "cell_type": "code",
   "execution_count": 212,
   "metadata": {},
   "outputs": [
    {
     "data": {
      "image/png": "[encoded data removed]",
      "text/plain": [
       "<Figure size 576x396 with 1 Axes>"
      ]
     },
     "metadata": {},
     "output_type": "display_data"
    }
   ],
   "source": [
    "k = np.arange(1,16,1)\n",
    "plt.plot(list(rss.values()))\n",
    "plt.show()"
   ]
  },
  {
   "cell_type": "markdown",
   "metadata": {},
   "source": [
    "# Questions\n",
    "8. Quiz Question: What is the Euclidean distance between the query house and the 10th house of the training set?\n",
    "##### ANS: 0.05972359371398078\n",
    "10. Quiz Question: Among the first 10 training houses, which house is the closest to the query house?\n",
    "##### ANS: 9th house(8th index) . distance = 0.052383627840220305\n",
    "16. Quiz Question: Take the query house to be third house of the test set (features_test[2]). What is the index of the house in the training set that is closest to this query house?\n",
    "##### ANS: 382 \n",
    "17. Quiz Question: What is the predicted value of the query house based on 1-nearest neighbor regression?\n",
    "##### ANS: 249000\n",
    "19. Quiz Question: Take the query house to be third house of the test set (features_test[2]). What are the indices of the 4 training houses closest to the query house?\n",
    "##### ANS: 382, 1149, 4087, 3142\n",
    "21. Quiz Question: Again taking the query house to be third house of the test set (features_test[2]), predict the value of the query house using k-nearest neighbors with k=4 and the simple averaging method described and implemented above.\n",
    "##### ANS: 413987.5\n",
    "23. Quiz Question: Make predictions for the first 10 houses in the test set, using k=10. What is the index of the house in this query set that has the lowest predicted value? What is the predicted value of this house?\n",
    "##### ANS: 6 -> 350032.0\n",
    "25. Quiz Question: What is the RSS on the TEST data using the value of k found above? To be clear, sum over all houses in the TEST set.\n",
    "##### ANS: 67361678735491.5 "
   ]
  },
  {
   "cell_type": "code",
   "execution_count": 217,
   "metadata": {},
   "outputs": [
    {
     "data": {
      "text/plain": [
       "413988.0"
      ]
     },
     "execution_count": 217,
     "metadata": {},
     "output_type": "execute_result"
    }
   ],
   "source": [
    "np.round(413987.5,0)"
   ]
  },
  {
   "cell_type": "code",
   "execution_count": null,
   "metadata": {},
   "outputs": [],
   "source": []
  }
 ],
 "metadata": {
  "kernelspec": {
   "display_name": "Python 3",
   "language": "python",
   "name": "python3"
  },
  "language_info": {
   "codemirror_mode": {
    "name": "ipython",
    "version": 3
   },
   "file_extension": ".py",
   "mimetype": "text/x-python",
   "name": "python",
   "nbconvert_exporter": "python",
   "pygments_lexer": "ipython3",
   "version": "3.7.4"
  }
 },
 "nbformat": 4,
 "nbformat_minor": 2
}
