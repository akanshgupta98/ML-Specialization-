{
 "cells": [
  {
   "cell_type": "code",
   "execution_count": 129,
   "metadata": {},
   "outputs": [],
   "source": [
    "import matplotlib.pyplot as plt\n",
    "import numpy as np\n",
    "import pandas as pd\n",
    "from sklearn.linear_model import LinearRegression"
   ]
  },
  {
   "cell_type": "markdown",
   "metadata": {},
   "source": [
    "# Loading Dataset"
   ]
  },
  {
   "cell_type": "code",
   "execution_count": 2,
   "metadata": {},
   "outputs": [],
   "source": [
    "dtype_dict = {'bathrooms':float, 'waterfront':int, 'sqft_above':int, 'sqft_living15':float, 'grade':int, 'yr_renovated':int, 'price':float, 'bedrooms':float, 'zipcode':str, 'long':float, 'sqft_lot15':float, 'sqft_living':float, 'floors':str, 'condition':int, 'lat':float, 'date':str, 'sqft_basement':int, 'yr_built':int, 'id':str, 'sqft_lot':int, 'view':int}"
   ]
  },
  {
   "cell_type": "code",
   "execution_count": 4,
   "metadata": {},
   "outputs": [
    {
     "name": "stdout",
     "output_type": "stream",
     "text": [
      "(21613, 21)\n"
     ]
    },
    {
     "data": {
      "text/html": [
       "<div>\n",
       "<style scoped>\n",
       "    .dataframe tbody tr th:only-of-type {\n",
       "        vertical-align: middle;\n",
       "    }\n",
       "\n",
       "    .dataframe tbody tr th {\n",
       "        vertical-align: top;\n",
       "    }\n",
       "\n",
       "    .dataframe thead th {\n",
       "        text-align: right;\n",
       "    }\n",
       "</style>\n",
       "<table border=\"1\" class=\"dataframe\">\n",
       "  <thead>\n",
       "    <tr style=\"text-align: right;\">\n",
       "      <th></th>\n",
       "      <th>id</th>\n",
       "      <th>date</th>\n",
       "      <th>price</th>\n",
       "      <th>bedrooms</th>\n",
       "      <th>bathrooms</th>\n",
       "      <th>sqft_living</th>\n",
       "      <th>sqft_lot</th>\n",
       "      <th>floors</th>\n",
       "      <th>waterfront</th>\n",
       "      <th>view</th>\n",
       "      <th>...</th>\n",
       "      <th>grade</th>\n",
       "      <th>sqft_above</th>\n",
       "      <th>sqft_basement</th>\n",
       "      <th>yr_built</th>\n",
       "      <th>yr_renovated</th>\n",
       "      <th>zipcode</th>\n",
       "      <th>lat</th>\n",
       "      <th>long</th>\n",
       "      <th>sqft_living15</th>\n",
       "      <th>sqft_lot15</th>\n",
       "    </tr>\n",
       "  </thead>\n",
       "  <tbody>\n",
       "    <tr>\n",
       "      <td>0</td>\n",
       "      <td>7129300520</td>\n",
       "      <td>20141013T000000</td>\n",
       "      <td>221900.0</td>\n",
       "      <td>3.0</td>\n",
       "      <td>1.00</td>\n",
       "      <td>1180.0</td>\n",
       "      <td>5650</td>\n",
       "      <td>1</td>\n",
       "      <td>0</td>\n",
       "      <td>0</td>\n",
       "      <td>...</td>\n",
       "      <td>7</td>\n",
       "      <td>1180</td>\n",
       "      <td>0</td>\n",
       "      <td>1955</td>\n",
       "      <td>0</td>\n",
       "      <td>98178</td>\n",
       "      <td>47.5112</td>\n",
       "      <td>-122.257</td>\n",
       "      <td>1340.0</td>\n",
       "      <td>5650.0</td>\n",
       "    </tr>\n",
       "    <tr>\n",
       "      <td>1</td>\n",
       "      <td>6414100192</td>\n",
       "      <td>20141209T000000</td>\n",
       "      <td>538000.0</td>\n",
       "      <td>3.0</td>\n",
       "      <td>2.25</td>\n",
       "      <td>2570.0</td>\n",
       "      <td>7242</td>\n",
       "      <td>2</td>\n",
       "      <td>0</td>\n",
       "      <td>0</td>\n",
       "      <td>...</td>\n",
       "      <td>7</td>\n",
       "      <td>2170</td>\n",
       "      <td>400</td>\n",
       "      <td>1951</td>\n",
       "      <td>1991</td>\n",
       "      <td>98125</td>\n",
       "      <td>47.7210</td>\n",
       "      <td>-122.319</td>\n",
       "      <td>1690.0</td>\n",
       "      <td>7639.0</td>\n",
       "    </tr>\n",
       "    <tr>\n",
       "      <td>2</td>\n",
       "      <td>5631500400</td>\n",
       "      <td>20150225T000000</td>\n",
       "      <td>180000.0</td>\n",
       "      <td>2.0</td>\n",
       "      <td>1.00</td>\n",
       "      <td>770.0</td>\n",
       "      <td>10000</td>\n",
       "      <td>1</td>\n",
       "      <td>0</td>\n",
       "      <td>0</td>\n",
       "      <td>...</td>\n",
       "      <td>6</td>\n",
       "      <td>770</td>\n",
       "      <td>0</td>\n",
       "      <td>1933</td>\n",
       "      <td>0</td>\n",
       "      <td>98028</td>\n",
       "      <td>47.7379</td>\n",
       "      <td>-122.233</td>\n",
       "      <td>2720.0</td>\n",
       "      <td>8062.0</td>\n",
       "    </tr>\n",
       "    <tr>\n",
       "      <td>3</td>\n",
       "      <td>2487200875</td>\n",
       "      <td>20141209T000000</td>\n",
       "      <td>604000.0</td>\n",
       "      <td>4.0</td>\n",
       "      <td>3.00</td>\n",
       "      <td>1960.0</td>\n",
       "      <td>5000</td>\n",
       "      <td>1</td>\n",
       "      <td>0</td>\n",
       "      <td>0</td>\n",
       "      <td>...</td>\n",
       "      <td>7</td>\n",
       "      <td>1050</td>\n",
       "      <td>910</td>\n",
       "      <td>1965</td>\n",
       "      <td>0</td>\n",
       "      <td>98136</td>\n",
       "      <td>47.5208</td>\n",
       "      <td>-122.393</td>\n",
       "      <td>1360.0</td>\n",
       "      <td>5000.0</td>\n",
       "    </tr>\n",
       "    <tr>\n",
       "      <td>4</td>\n",
       "      <td>1954400510</td>\n",
       "      <td>20150218T000000</td>\n",
       "      <td>510000.0</td>\n",
       "      <td>3.0</td>\n",
       "      <td>2.00</td>\n",
       "      <td>1680.0</td>\n",
       "      <td>8080</td>\n",
       "      <td>1</td>\n",
       "      <td>0</td>\n",
       "      <td>0</td>\n",
       "      <td>...</td>\n",
       "      <td>8</td>\n",
       "      <td>1680</td>\n",
       "      <td>0</td>\n",
       "      <td>1987</td>\n",
       "      <td>0</td>\n",
       "      <td>98074</td>\n",
       "      <td>47.6168</td>\n",
       "      <td>-122.045</td>\n",
       "      <td>1800.0</td>\n",
       "      <td>7503.0</td>\n",
       "    </tr>\n",
       "  </tbody>\n",
       "</table>\n",
       "<p>5 rows × 21 columns</p>\n",
       "</div>"
      ],
      "text/plain": [
       "           id             date     price  bedrooms  bathrooms  sqft_living  \\\n",
       "0  7129300520  20141013T000000  221900.0       3.0       1.00       1180.0   \n",
       "1  6414100192  20141209T000000  538000.0       3.0       2.25       2570.0   \n",
       "2  5631500400  20150225T000000  180000.0       2.0       1.00        770.0   \n",
       "3  2487200875  20141209T000000  604000.0       4.0       3.00       1960.0   \n",
       "4  1954400510  20150218T000000  510000.0       3.0       2.00       1680.0   \n",
       "\n",
       "   sqft_lot floors  waterfront  view  ...  grade  sqft_above  sqft_basement  \\\n",
       "0      5650      1           0     0  ...      7        1180              0   \n",
       "1      7242      2           0     0  ...      7        2170            400   \n",
       "2     10000      1           0     0  ...      6         770              0   \n",
       "3      5000      1           0     0  ...      7        1050            910   \n",
       "4      8080      1           0     0  ...      8        1680              0   \n",
       "\n",
       "   yr_built  yr_renovated  zipcode      lat     long  sqft_living15  \\\n",
       "0      1955             0    98178  47.5112 -122.257         1340.0   \n",
       "1      1951          1991    98125  47.7210 -122.319         1690.0   \n",
       "2      1933             0    98028  47.7379 -122.233         2720.0   \n",
       "3      1965             0    98136  47.5208 -122.393         1360.0   \n",
       "4      1987             0    98074  47.6168 -122.045         1800.0   \n",
       "\n",
       "   sqft_lot15  \n",
       "0      5650.0  \n",
       "1      7639.0  \n",
       "2      8062.0  \n",
       "3      5000.0  \n",
       "4      7503.0  \n",
       "\n",
       "[5 rows x 21 columns]"
      ]
     },
     "execution_count": 4,
     "metadata": {},
     "output_type": "execute_result"
    }
   ],
   "source": [
    "house_data = pd.read_csv('kc_house_data.csv',dtype=dtype_dict)\n",
    "print(house_data.shape)\n",
    "house_data.head()"
   ]
  },
  {
   "cell_type": "markdown",
   "metadata": {},
   "source": [
    "# Function to convert features to Polynomial"
   ]
  },
  {
   "cell_type": "code",
   "execution_count": 198,
   "metadata": {},
   "outputs": [],
   "source": [
    "def polynomial_dataset(feature,degree,dataset):\n",
    "    md = pd.DataFrame()\n",
    "    for i in range(1,degree+1):\n",
    "        if(len(feature) == 1):\n",
    "            md['power_'+str(i)]= list(map(lambda x: x**i,dataset[feature[0]]))\n",
    "        else:\n",
    "            md['power_'+str(i)]= list(map(lambda x: x**i,dataset[feature[i-1]]))\n",
    "    return md"
   ]
  },
  {
   "cell_type": "code",
   "execution_count": 148,
   "metadata": {},
   "outputs": [],
   "source": [
    "house_data = house_data.sort_values(['sqft_living','price'])"
   ]
  },
  {
   "cell_type": "code",
   "execution_count": 149,
   "metadata": {},
   "outputs": [
    {
     "data": {
      "text/html": [
       "<div>\n",
       "<style scoped>\n",
       "    .dataframe tbody tr th:only-of-type {\n",
       "        vertical-align: middle;\n",
       "    }\n",
       "\n",
       "    .dataframe tbody tr th {\n",
       "        vertical-align: top;\n",
       "    }\n",
       "\n",
       "    .dataframe thead th {\n",
       "        text-align: right;\n",
       "    }\n",
       "</style>\n",
       "<table border=\"1\" class=\"dataframe\">\n",
       "  <thead>\n",
       "    <tr style=\"text-align: right;\">\n",
       "      <th></th>\n",
       "      <th>id</th>\n",
       "      <th>date</th>\n",
       "      <th>price</th>\n",
       "      <th>bedrooms</th>\n",
       "      <th>bathrooms</th>\n",
       "      <th>sqft_living</th>\n",
       "      <th>sqft_lot</th>\n",
       "      <th>floors</th>\n",
       "      <th>waterfront</th>\n",
       "      <th>view</th>\n",
       "      <th>...</th>\n",
       "      <th>grade</th>\n",
       "      <th>sqft_above</th>\n",
       "      <th>sqft_basement</th>\n",
       "      <th>yr_built</th>\n",
       "      <th>yr_renovated</th>\n",
       "      <th>zipcode</th>\n",
       "      <th>lat</th>\n",
       "      <th>long</th>\n",
       "      <th>sqft_living15</th>\n",
       "      <th>sqft_lot15</th>\n",
       "    </tr>\n",
       "  </thead>\n",
       "  <tbody>\n",
       "    <tr>\n",
       "      <td>19452</td>\n",
       "      <td>3980300371</td>\n",
       "      <td>20140926T000000</td>\n",
       "      <td>142000.0</td>\n",
       "      <td>0.0</td>\n",
       "      <td>0.00</td>\n",
       "      <td>290.0</td>\n",
       "      <td>20875</td>\n",
       "      <td>1</td>\n",
       "      <td>0</td>\n",
       "      <td>0</td>\n",
       "      <td>...</td>\n",
       "      <td>1</td>\n",
       "      <td>290</td>\n",
       "      <td>0</td>\n",
       "      <td>1963</td>\n",
       "      <td>0</td>\n",
       "      <td>98024</td>\n",
       "      <td>47.5308</td>\n",
       "      <td>-121.888</td>\n",
       "      <td>1620.0</td>\n",
       "      <td>22850.0</td>\n",
       "    </tr>\n",
       "    <tr>\n",
       "      <td>15381</td>\n",
       "      <td>2856101479</td>\n",
       "      <td>20140701T000000</td>\n",
       "      <td>276000.0</td>\n",
       "      <td>1.0</td>\n",
       "      <td>0.75</td>\n",
       "      <td>370.0</td>\n",
       "      <td>1801</td>\n",
       "      <td>1</td>\n",
       "      <td>0</td>\n",
       "      <td>0</td>\n",
       "      <td>...</td>\n",
       "      <td>5</td>\n",
       "      <td>370</td>\n",
       "      <td>0</td>\n",
       "      <td>1923</td>\n",
       "      <td>0</td>\n",
       "      <td>98117</td>\n",
       "      <td>47.6778</td>\n",
       "      <td>-122.389</td>\n",
       "      <td>1340.0</td>\n",
       "      <td>5000.0</td>\n",
       "    </tr>\n",
       "    <tr>\n",
       "      <td>860</td>\n",
       "      <td>1723049033</td>\n",
       "      <td>20140620T000000</td>\n",
       "      <td>245000.0</td>\n",
       "      <td>1.0</td>\n",
       "      <td>0.75</td>\n",
       "      <td>380.0</td>\n",
       "      <td>15000</td>\n",
       "      <td>1</td>\n",
       "      <td>0</td>\n",
       "      <td>0</td>\n",
       "      <td>...</td>\n",
       "      <td>5</td>\n",
       "      <td>380</td>\n",
       "      <td>0</td>\n",
       "      <td>1963</td>\n",
       "      <td>0</td>\n",
       "      <td>98168</td>\n",
       "      <td>47.4810</td>\n",
       "      <td>-122.323</td>\n",
       "      <td>1170.0</td>\n",
       "      <td>15000.0</td>\n",
       "    </tr>\n",
       "    <tr>\n",
       "      <td>18379</td>\n",
       "      <td>1222029077</td>\n",
       "      <td>20141029T000000</td>\n",
       "      <td>265000.0</td>\n",
       "      <td>0.0</td>\n",
       "      <td>0.75</td>\n",
       "      <td>384.0</td>\n",
       "      <td>213444</td>\n",
       "      <td>1</td>\n",
       "      <td>0</td>\n",
       "      <td>0</td>\n",
       "      <td>...</td>\n",
       "      <td>4</td>\n",
       "      <td>384</td>\n",
       "      <td>0</td>\n",
       "      <td>2003</td>\n",
       "      <td>0</td>\n",
       "      <td>98070</td>\n",
       "      <td>47.4177</td>\n",
       "      <td>-122.491</td>\n",
       "      <td>1920.0</td>\n",
       "      <td>224341.0</td>\n",
       "    </tr>\n",
       "    <tr>\n",
       "      <td>4868</td>\n",
       "      <td>6896300380</td>\n",
       "      <td>20141002T000000</td>\n",
       "      <td>228000.0</td>\n",
       "      <td>0.0</td>\n",
       "      <td>1.00</td>\n",
       "      <td>390.0</td>\n",
       "      <td>5900</td>\n",
       "      <td>1</td>\n",
       "      <td>0</td>\n",
       "      <td>0</td>\n",
       "      <td>...</td>\n",
       "      <td>4</td>\n",
       "      <td>390</td>\n",
       "      <td>0</td>\n",
       "      <td>1953</td>\n",
       "      <td>0</td>\n",
       "      <td>98118</td>\n",
       "      <td>47.5260</td>\n",
       "      <td>-122.261</td>\n",
       "      <td>2170.0</td>\n",
       "      <td>6000.0</td>\n",
       "    </tr>\n",
       "    <tr>\n",
       "      <td>...</td>\n",
       "      <td>...</td>\n",
       "      <td>...</td>\n",
       "      <td>...</td>\n",
       "      <td>...</td>\n",
       "      <td>...</td>\n",
       "      <td>...</td>\n",
       "      <td>...</td>\n",
       "      <td>...</td>\n",
       "      <td>...</td>\n",
       "      <td>...</td>\n",
       "      <td>...</td>\n",
       "      <td>...</td>\n",
       "      <td>...</td>\n",
       "      <td>...</td>\n",
       "      <td>...</td>\n",
       "      <td>...</td>\n",
       "      <td>...</td>\n",
       "      <td>...</td>\n",
       "      <td>...</td>\n",
       "      <td>...</td>\n",
       "      <td>...</td>\n",
       "    </tr>\n",
       "    <tr>\n",
       "      <td>8092</td>\n",
       "      <td>1924059029</td>\n",
       "      <td>20140617T000000</td>\n",
       "      <td>4668000.0</td>\n",
       "      <td>5.0</td>\n",
       "      <td>6.75</td>\n",
       "      <td>9640.0</td>\n",
       "      <td>13068</td>\n",
       "      <td>1</td>\n",
       "      <td>1</td>\n",
       "      <td>4</td>\n",
       "      <td>...</td>\n",
       "      <td>12</td>\n",
       "      <td>4820</td>\n",
       "      <td>4820</td>\n",
       "      <td>1983</td>\n",
       "      <td>2009</td>\n",
       "      <td>98040</td>\n",
       "      <td>47.5570</td>\n",
       "      <td>-122.210</td>\n",
       "      <td>3270.0</td>\n",
       "      <td>10454.0</td>\n",
       "    </tr>\n",
       "    <tr>\n",
       "      <td>9254</td>\n",
       "      <td>9208900037</td>\n",
       "      <td>20140919T000000</td>\n",
       "      <td>6885000.0</td>\n",
       "      <td>6.0</td>\n",
       "      <td>7.75</td>\n",
       "      <td>9890.0</td>\n",
       "      <td>31374</td>\n",
       "      <td>2</td>\n",
       "      <td>0</td>\n",
       "      <td>4</td>\n",
       "      <td>...</td>\n",
       "      <td>13</td>\n",
       "      <td>8860</td>\n",
       "      <td>1030</td>\n",
       "      <td>2001</td>\n",
       "      <td>0</td>\n",
       "      <td>98039</td>\n",
       "      <td>47.6305</td>\n",
       "      <td>-122.240</td>\n",
       "      <td>4540.0</td>\n",
       "      <td>42730.0</td>\n",
       "    </tr>\n",
       "    <tr>\n",
       "      <td>3914</td>\n",
       "      <td>9808700762</td>\n",
       "      <td>20140611T000000</td>\n",
       "      <td>7062500.0</td>\n",
       "      <td>5.0</td>\n",
       "      <td>4.50</td>\n",
       "      <td>10040.0</td>\n",
       "      <td>37325</td>\n",
       "      <td>2</td>\n",
       "      <td>1</td>\n",
       "      <td>2</td>\n",
       "      <td>...</td>\n",
       "      <td>11</td>\n",
       "      <td>7680</td>\n",
       "      <td>2360</td>\n",
       "      <td>1940</td>\n",
       "      <td>2001</td>\n",
       "      <td>98004</td>\n",
       "      <td>47.6500</td>\n",
       "      <td>-122.214</td>\n",
       "      <td>3930.0</td>\n",
       "      <td>25449.0</td>\n",
       "    </tr>\n",
       "    <tr>\n",
       "      <td>7252</td>\n",
       "      <td>6762700020</td>\n",
       "      <td>20141013T000000</td>\n",
       "      <td>7700000.0</td>\n",
       "      <td>6.0</td>\n",
       "      <td>8.00</td>\n",
       "      <td>12050.0</td>\n",
       "      <td>27600</td>\n",
       "      <td>2.5</td>\n",
       "      <td>0</td>\n",
       "      <td>3</td>\n",
       "      <td>...</td>\n",
       "      <td>13</td>\n",
       "      <td>8570</td>\n",
       "      <td>3480</td>\n",
       "      <td>1910</td>\n",
       "      <td>1987</td>\n",
       "      <td>98102</td>\n",
       "      <td>47.6298</td>\n",
       "      <td>-122.323</td>\n",
       "      <td>3940.0</td>\n",
       "      <td>8800.0</td>\n",
       "    </tr>\n",
       "    <tr>\n",
       "      <td>12777</td>\n",
       "      <td>1225069038</td>\n",
       "      <td>20140505T000000</td>\n",
       "      <td>2280000.0</td>\n",
       "      <td>7.0</td>\n",
       "      <td>8.00</td>\n",
       "      <td>13540.0</td>\n",
       "      <td>307752</td>\n",
       "      <td>3</td>\n",
       "      <td>0</td>\n",
       "      <td>4</td>\n",
       "      <td>...</td>\n",
       "      <td>12</td>\n",
       "      <td>9410</td>\n",
       "      <td>4130</td>\n",
       "      <td>1999</td>\n",
       "      <td>0</td>\n",
       "      <td>98053</td>\n",
       "      <td>47.6675</td>\n",
       "      <td>-121.986</td>\n",
       "      <td>4850.0</td>\n",
       "      <td>217800.0</td>\n",
       "    </tr>\n",
       "  </tbody>\n",
       "</table>\n",
       "<p>21613 rows × 21 columns</p>\n",
       "</div>"
      ],
      "text/plain": [
       "               id             date      price  bedrooms  bathrooms  \\\n",
       "19452  3980300371  20140926T000000   142000.0       0.0       0.00   \n",
       "15381  2856101479  20140701T000000   276000.0       1.0       0.75   \n",
       "860    1723049033  20140620T000000   245000.0       1.0       0.75   \n",
       "18379  1222029077  20141029T000000   265000.0       0.0       0.75   \n",
       "4868   6896300380  20141002T000000   228000.0       0.0       1.00   \n",
       "...           ...              ...        ...       ...        ...   \n",
       "8092   1924059029  20140617T000000  4668000.0       5.0       6.75   \n",
       "9254   9208900037  20140919T000000  6885000.0       6.0       7.75   \n",
       "3914   9808700762  20140611T000000  7062500.0       5.0       4.50   \n",
       "7252   6762700020  20141013T000000  7700000.0       6.0       8.00   \n",
       "12777  1225069038  20140505T000000  2280000.0       7.0       8.00   \n",
       "\n",
       "       sqft_living  sqft_lot floors  waterfront  view  ...  grade  sqft_above  \\\n",
       "19452        290.0     20875      1           0     0  ...      1         290   \n",
       "15381        370.0      1801      1           0     0  ...      5         370   \n",
       "860          380.0     15000      1           0     0  ...      5         380   \n",
       "18379        384.0    213444      1           0     0  ...      4         384   \n",
       "4868         390.0      5900      1           0     0  ...      4         390   \n",
       "...            ...       ...    ...         ...   ...  ...    ...         ...   \n",
       "8092        9640.0     13068      1           1     4  ...     12        4820   \n",
       "9254        9890.0     31374      2           0     4  ...     13        8860   \n",
       "3914       10040.0     37325      2           1     2  ...     11        7680   \n",
       "7252       12050.0     27600    2.5           0     3  ...     13        8570   \n",
       "12777      13540.0    307752      3           0     4  ...     12        9410   \n",
       "\n",
       "       sqft_basement  yr_built  yr_renovated  zipcode      lat     long  \\\n",
       "19452              0      1963             0    98024  47.5308 -121.888   \n",
       "15381              0      1923             0    98117  47.6778 -122.389   \n",
       "860                0      1963             0    98168  47.4810 -122.323   \n",
       "18379              0      2003             0    98070  47.4177 -122.491   \n",
       "4868               0      1953             0    98118  47.5260 -122.261   \n",
       "...              ...       ...           ...      ...      ...      ...   \n",
       "8092            4820      1983          2009    98040  47.5570 -122.210   \n",
       "9254            1030      2001             0    98039  47.6305 -122.240   \n",
       "3914            2360      1940          2001    98004  47.6500 -122.214   \n",
       "7252            3480      1910          1987    98102  47.6298 -122.323   \n",
       "12777           4130      1999             0    98053  47.6675 -121.986   \n",
       "\n",
       "       sqft_living15  sqft_lot15  \n",
       "19452         1620.0     22850.0  \n",
       "15381         1340.0      5000.0  \n",
       "860           1170.0     15000.0  \n",
       "18379         1920.0    224341.0  \n",
       "4868          2170.0      6000.0  \n",
       "...              ...         ...  \n",
       "8092          3270.0     10454.0  \n",
       "9254          4540.0     42730.0  \n",
       "3914          3930.0     25449.0  \n",
       "7252          3940.0      8800.0  \n",
       "12777         4850.0    217800.0  \n",
       "\n",
       "[21613 rows x 21 columns]"
      ]
     },
     "execution_count": 149,
     "metadata": {},
     "output_type": "execute_result"
    }
   ],
   "source": [
    "house_data"
   ]
  },
  {
   "cell_type": "code",
   "execution_count": 150,
   "metadata": {},
   "outputs": [
    {
     "data": {
      "text/html": [
       "<div>\n",
       "<style scoped>\n",
       "    .dataframe tbody tr th:only-of-type {\n",
       "        vertical-align: middle;\n",
       "    }\n",
       "\n",
       "    .dataframe tbody tr th {\n",
       "        vertical-align: top;\n",
       "    }\n",
       "\n",
       "    .dataframe thead th {\n",
       "        text-align: right;\n",
       "    }\n",
       "</style>\n",
       "<table border=\"1\" class=\"dataframe\">\n",
       "  <thead>\n",
       "    <tr style=\"text-align: right;\">\n",
       "      <th></th>\n",
       "      <th>power_1</th>\n",
       "      <th>price</th>\n",
       "    </tr>\n",
       "  </thead>\n",
       "  <tbody>\n",
       "    <tr>\n",
       "      <td>0</td>\n",
       "      <td>290.0</td>\n",
       "      <td>221900.0</td>\n",
       "    </tr>\n",
       "    <tr>\n",
       "      <td>1</td>\n",
       "      <td>370.0</td>\n",
       "      <td>538000.0</td>\n",
       "    </tr>\n",
       "    <tr>\n",
       "      <td>2</td>\n",
       "      <td>380.0</td>\n",
       "      <td>180000.0</td>\n",
       "    </tr>\n",
       "    <tr>\n",
       "      <td>3</td>\n",
       "      <td>384.0</td>\n",
       "      <td>604000.0</td>\n",
       "    </tr>\n",
       "    <tr>\n",
       "      <td>4</td>\n",
       "      <td>390.0</td>\n",
       "      <td>510000.0</td>\n",
       "    </tr>\n",
       "    <tr>\n",
       "      <td>...</td>\n",
       "      <td>...</td>\n",
       "      <td>...</td>\n",
       "    </tr>\n",
       "    <tr>\n",
       "      <td>21608</td>\n",
       "      <td>9640.0</td>\n",
       "      <td>360000.0</td>\n",
       "    </tr>\n",
       "    <tr>\n",
       "      <td>21609</td>\n",
       "      <td>9890.0</td>\n",
       "      <td>400000.0</td>\n",
       "    </tr>\n",
       "    <tr>\n",
       "      <td>21610</td>\n",
       "      <td>10040.0</td>\n",
       "      <td>402101.0</td>\n",
       "    </tr>\n",
       "    <tr>\n",
       "      <td>21611</td>\n",
       "      <td>12050.0</td>\n",
       "      <td>400000.0</td>\n",
       "    </tr>\n",
       "    <tr>\n",
       "      <td>21612</td>\n",
       "      <td>13540.0</td>\n",
       "      <td>325000.0</td>\n",
       "    </tr>\n",
       "  </tbody>\n",
       "</table>\n",
       "<p>21613 rows × 2 columns</p>\n",
       "</div>"
      ],
      "text/plain": [
       "       power_1     price\n",
       "0        290.0  221900.0\n",
       "1        370.0  538000.0\n",
       "2        380.0  180000.0\n",
       "3        384.0  604000.0\n",
       "4        390.0  510000.0\n",
       "...        ...       ...\n",
       "21608   9640.0  360000.0\n",
       "21609   9890.0  400000.0\n",
       "21610  10040.0  402101.0\n",
       "21611  12050.0  400000.0\n",
       "21612  13540.0  325000.0\n",
       "\n",
       "[21613 rows x 2 columns]"
      ]
     },
     "execution_count": 150,
     "metadata": {},
     "output_type": "execute_result"
    }
   ],
   "source": [
    "poly_1_data = polynomial_dataset(['sqft_living'],1)\n",
    "poly_1_data['price'] = house_data['price']\n",
    "poly_1_data"
   ]
  },
  {
   "cell_type": "markdown",
   "metadata": {},
   "source": [
    "# Make a Polynomial Regression Model 1(degree : 1)"
   ]
  },
  {
   "cell_type": "code",
   "execution_count": 151,
   "metadata": {},
   "outputs": [],
   "source": [
    "model_1 = LinearRegression()\n"
   ]
  },
  {
   "cell_type": "code",
   "execution_count": 152,
   "metadata": {},
   "outputs": [
    {
     "name": "stdout",
     "output_type": "stream",
     "text": [
      "(21613, 1) (21613, 1)\n"
     ]
    }
   ],
   "source": [
    "X = np.array(poly_1_data['power_1']).reshape(-1,1)\n",
    "Y = np.array(poly_1_data['price']).reshape(-1,1)\n",
    "print(X.shape,Y.shape)"
   ]
  },
  {
   "cell_type": "code",
   "execution_count": 153,
   "metadata": {},
   "outputs": [
    {
     "data": {
      "text/plain": [
       "LinearRegression(copy_X=True, fit_intercept=True, n_jobs=None, normalize=False)"
      ]
     },
     "execution_count": 153,
     "metadata": {},
     "output_type": "execute_result"
    }
   ],
   "source": [
    "model_1.fit(X,Y)\n"
   ]
  },
  {
   "cell_type": "code",
   "execution_count": 154,
   "metadata": {},
   "outputs": [
    {
     "name": "stdout",
     "output_type": "stream",
     "text": [
      "[508029.80349542] [[15.41340561]]\n"
     ]
    }
   ],
   "source": [
    "print(model_1.intercept_,model_1.coef_)"
   ]
  },
  {
   "cell_type": "markdown",
   "metadata": {},
   "source": [
    "## Visualizing the model"
   ]
  },
  {
   "cell_type": "code",
   "execution_count": 155,
   "metadata": {},
   "outputs": [
    {
     "data": {
      "image/png": "[encoded data removed]",
      "text/plain": [
       "<Figure size 432x288 with 1 Axes>"
      ]
     },
     "metadata": {
      "needs_background": "light"
     },
     "output_type": "display_data"
    }
   ],
   "source": [
    "plt.scatter(X,Y,color='r',alpha=0.5)\n",
    "plt.plot(X,model_1.predict(X),color='b')\n",
    "plt.show()"
   ]
  },
  {
   "cell_type": "markdown",
   "metadata": {},
   "source": [
    "# Trying a Polynomial Regression with degree:2"
   ]
  },
  {
   "cell_type": "code",
   "execution_count": 156,
   "metadata": {},
   "outputs": [
    {
     "data": {
      "text/html": [
       "<div>\n",
       "<style scoped>\n",
       "    .dataframe tbody tr th:only-of-type {\n",
       "        vertical-align: middle;\n",
       "    }\n",
       "\n",
       "    .dataframe tbody tr th {\n",
       "        vertical-align: top;\n",
       "    }\n",
       "\n",
       "    .dataframe thead th {\n",
       "        text-align: right;\n",
       "    }\n",
       "</style>\n",
       "<table border=\"1\" class=\"dataframe\">\n",
       "  <thead>\n",
       "    <tr style=\"text-align: right;\">\n",
       "      <th></th>\n",
       "      <th>power_1</th>\n",
       "      <th>power_2</th>\n",
       "      <th>price</th>\n",
       "    </tr>\n",
       "  </thead>\n",
       "  <tbody>\n",
       "    <tr>\n",
       "      <td>0</td>\n",
       "      <td>290.0</td>\n",
       "      <td>84100.0</td>\n",
       "      <td>221900.0</td>\n",
       "    </tr>\n",
       "    <tr>\n",
       "      <td>1</td>\n",
       "      <td>370.0</td>\n",
       "      <td>136900.0</td>\n",
       "      <td>538000.0</td>\n",
       "    </tr>\n",
       "    <tr>\n",
       "      <td>2</td>\n",
       "      <td>380.0</td>\n",
       "      <td>144400.0</td>\n",
       "      <td>180000.0</td>\n",
       "    </tr>\n",
       "    <tr>\n",
       "      <td>3</td>\n",
       "      <td>384.0</td>\n",
       "      <td>147456.0</td>\n",
       "      <td>604000.0</td>\n",
       "    </tr>\n",
       "    <tr>\n",
       "      <td>4</td>\n",
       "      <td>390.0</td>\n",
       "      <td>152100.0</td>\n",
       "      <td>510000.0</td>\n",
       "    </tr>\n",
       "    <tr>\n",
       "      <td>...</td>\n",
       "      <td>...</td>\n",
       "      <td>...</td>\n",
       "      <td>...</td>\n",
       "    </tr>\n",
       "    <tr>\n",
       "      <td>21608</td>\n",
       "      <td>9640.0</td>\n",
       "      <td>92929600.0</td>\n",
       "      <td>360000.0</td>\n",
       "    </tr>\n",
       "    <tr>\n",
       "      <td>21609</td>\n",
       "      <td>9890.0</td>\n",
       "      <td>97812100.0</td>\n",
       "      <td>400000.0</td>\n",
       "    </tr>\n",
       "    <tr>\n",
       "      <td>21610</td>\n",
       "      <td>10040.0</td>\n",
       "      <td>100801600.0</td>\n",
       "      <td>402101.0</td>\n",
       "    </tr>\n",
       "    <tr>\n",
       "      <td>21611</td>\n",
       "      <td>12050.0</td>\n",
       "      <td>145202500.0</td>\n",
       "      <td>400000.0</td>\n",
       "    </tr>\n",
       "    <tr>\n",
       "      <td>21612</td>\n",
       "      <td>13540.0</td>\n",
       "      <td>183331600.0</td>\n",
       "      <td>325000.0</td>\n",
       "    </tr>\n",
       "  </tbody>\n",
       "</table>\n",
       "<p>21613 rows × 3 columns</p>\n",
       "</div>"
      ],
      "text/plain": [
       "       power_1      power_2     price\n",
       "0        290.0      84100.0  221900.0\n",
       "1        370.0     136900.0  538000.0\n",
       "2        380.0     144400.0  180000.0\n",
       "3        384.0     147456.0  604000.0\n",
       "4        390.0     152100.0  510000.0\n",
       "...        ...          ...       ...\n",
       "21608   9640.0   92929600.0  360000.0\n",
       "21609   9890.0   97812100.0  400000.0\n",
       "21610  10040.0  100801600.0  402101.0\n",
       "21611  12050.0  145202500.0  400000.0\n",
       "21612  13540.0  183331600.0  325000.0\n",
       "\n",
       "[21613 rows x 3 columns]"
      ]
     },
     "execution_count": 156,
     "metadata": {},
     "output_type": "execute_result"
    }
   ],
   "source": [
    "poly_2_data = polynomial_dataset(['sqft_living'],2)\n",
    "poly_2_data['price'] = house_data['price']\n",
    "poly_2_data"
   ]
  },
  {
   "cell_type": "code",
   "execution_count": 157,
   "metadata": {},
   "outputs": [],
   "source": [
    "model_2 = LinearRegression()"
   ]
  },
  {
   "cell_type": "code",
   "execution_count": 160,
   "metadata": {},
   "outputs": [
    {
     "name": "stdout",
     "output_type": "stream",
     "text": [
      "(21613, 2) (21613, 1)\n"
     ]
    }
   ],
   "source": [
    "X = np.array(poly_2_data[['power_1','power_2']])\n",
    "Y = np.array(poly_2_data['price']).reshape(-1,1)\n",
    "print(X.shape,Y.shape)"
   ]
  },
  {
   "cell_type": "code",
   "execution_count": 166,
   "metadata": {},
   "outputs": [
    {
     "data": {
      "text/plain": [
       "LinearRegression(copy_X=True, fit_intercept=True, n_jobs=None, normalize=False)"
      ]
     },
     "execution_count": 166,
     "metadata": {},
     "output_type": "execute_result"
    }
   ],
   "source": [
    "model_2.fit(X,Y)\n"
   ]
  },
  {
   "cell_type": "code",
   "execution_count": 181,
   "metadata": {},
   "outputs": [
    {
     "name": "stdout",
     "output_type": "stream",
     "text": [
      "[520457.81271605] [[4.52984647e+00 1.97480353e-03]]\n"
     ]
    }
   ],
   "source": [
    "print(model_2.intercept_,model_2.coef_)"
   ]
  },
  {
   "cell_type": "markdown",
   "metadata": {},
   "source": [
    "## Visualizing the Model"
   ]
  },
  {
   "cell_type": "code",
   "execution_count": 174,
   "metadata": {},
   "outputs": [
    {
     "data": {
      "image/png": "[encoded data removed]",
      "text/plain": [
       "<Figure size 576x396 with 1 Axes>"
      ]
     },
     "metadata": {},
     "output_type": "display_data"
    }
   ],
   "source": [
    "plt.style.use('seaborn')\n",
    "plt.plot(X,Y,'.')\n",
    "plt.plot(X,model_2.predict(X),color='b',ls='-')\n",
    "plt.show()"
   ]
  },
  {
   "cell_type": "markdown",
   "metadata": {},
   "source": [
    "# Trying a Polynomial Regression with degree:3"
   ]
  },
  {
   "cell_type": "code",
   "execution_count": 176,
   "metadata": {},
   "outputs": [
    {
     "data": {
      "text/html": [
       "<div>\n",
       "<style scoped>\n",
       "    .dataframe tbody tr th:only-of-type {\n",
       "        vertical-align: middle;\n",
       "    }\n",
       "\n",
       "    .dataframe tbody tr th {\n",
       "        vertical-align: top;\n",
       "    }\n",
       "\n",
       "    .dataframe thead th {\n",
       "        text-align: right;\n",
       "    }\n",
       "</style>\n",
       "<table border=\"1\" class=\"dataframe\">\n",
       "  <thead>\n",
       "    <tr style=\"text-align: right;\">\n",
       "      <th></th>\n",
       "      <th>power_1</th>\n",
       "      <th>power_2</th>\n",
       "      <th>power_3</th>\n",
       "      <th>price</th>\n",
       "    </tr>\n",
       "  </thead>\n",
       "  <tbody>\n",
       "    <tr>\n",
       "      <td>0</td>\n",
       "      <td>290.0</td>\n",
       "      <td>84100.0</td>\n",
       "      <td>2.438900e+07</td>\n",
       "      <td>221900.0</td>\n",
       "    </tr>\n",
       "    <tr>\n",
       "      <td>1</td>\n",
       "      <td>370.0</td>\n",
       "      <td>136900.0</td>\n",
       "      <td>5.065300e+07</td>\n",
       "      <td>538000.0</td>\n",
       "    </tr>\n",
       "    <tr>\n",
       "      <td>2</td>\n",
       "      <td>380.0</td>\n",
       "      <td>144400.0</td>\n",
       "      <td>5.487200e+07</td>\n",
       "      <td>180000.0</td>\n",
       "    </tr>\n",
       "    <tr>\n",
       "      <td>3</td>\n",
       "      <td>384.0</td>\n",
       "      <td>147456.0</td>\n",
       "      <td>5.662310e+07</td>\n",
       "      <td>604000.0</td>\n",
       "    </tr>\n",
       "    <tr>\n",
       "      <td>4</td>\n",
       "      <td>390.0</td>\n",
       "      <td>152100.0</td>\n",
       "      <td>5.931900e+07</td>\n",
       "      <td>510000.0</td>\n",
       "    </tr>\n",
       "    <tr>\n",
       "      <td>...</td>\n",
       "      <td>...</td>\n",
       "      <td>...</td>\n",
       "      <td>...</td>\n",
       "      <td>...</td>\n",
       "    </tr>\n",
       "    <tr>\n",
       "      <td>21608</td>\n",
       "      <td>9640.0</td>\n",
       "      <td>92929600.0</td>\n",
       "      <td>8.958413e+11</td>\n",
       "      <td>360000.0</td>\n",
       "    </tr>\n",
       "    <tr>\n",
       "      <td>21609</td>\n",
       "      <td>9890.0</td>\n",
       "      <td>97812100.0</td>\n",
       "      <td>9.673617e+11</td>\n",
       "      <td>400000.0</td>\n",
       "    </tr>\n",
       "    <tr>\n",
       "      <td>21610</td>\n",
       "      <td>10040.0</td>\n",
       "      <td>100801600.0</td>\n",
       "      <td>1.012048e+12</td>\n",
       "      <td>402101.0</td>\n",
       "    </tr>\n",
       "    <tr>\n",
       "      <td>21611</td>\n",
       "      <td>12050.0</td>\n",
       "      <td>145202500.0</td>\n",
       "      <td>1.749690e+12</td>\n",
       "      <td>400000.0</td>\n",
       "    </tr>\n",
       "    <tr>\n",
       "      <td>21612</td>\n",
       "      <td>13540.0</td>\n",
       "      <td>183331600.0</td>\n",
       "      <td>2.482310e+12</td>\n",
       "      <td>325000.0</td>\n",
       "    </tr>\n",
       "  </tbody>\n",
       "</table>\n",
       "<p>21613 rows × 4 columns</p>\n",
       "</div>"
      ],
      "text/plain": [
       "       power_1      power_2       power_3     price\n",
       "0        290.0      84100.0  2.438900e+07  221900.0\n",
       "1        370.0     136900.0  5.065300e+07  538000.0\n",
       "2        380.0     144400.0  5.487200e+07  180000.0\n",
       "3        384.0     147456.0  5.662310e+07  604000.0\n",
       "4        390.0     152100.0  5.931900e+07  510000.0\n",
       "...        ...          ...           ...       ...\n",
       "21608   9640.0   92929600.0  8.958413e+11  360000.0\n",
       "21609   9890.0   97812100.0  9.673617e+11  400000.0\n",
       "21610  10040.0  100801600.0  1.012048e+12  402101.0\n",
       "21611  12050.0  145202500.0  1.749690e+12  400000.0\n",
       "21612  13540.0  183331600.0  2.482310e+12  325000.0\n",
       "\n",
       "[21613 rows x 4 columns]"
      ]
     },
     "execution_count": 176,
     "metadata": {},
     "output_type": "execute_result"
    }
   ],
   "source": [
    "poly_3_data = polynomial_dataset(['sqft_living'],3)\n",
    "poly_3_data['price'] = house_data['price']\n",
    "poly_3_data\n"
   ]
  },
  {
   "cell_type": "code",
   "execution_count": 177,
   "metadata": {},
   "outputs": [],
   "source": [
    "model_3 = LinearRegression()"
   ]
  },
  {
   "cell_type": "code",
   "execution_count": 178,
   "metadata": {},
   "outputs": [
    {
     "name": "stdout",
     "output_type": "stream",
     "text": [
      "(21613, 3) (21613, 1)\n"
     ]
    }
   ],
   "source": [
    "X = np.array(poly_3_data[['power_1','power_2','power_3']])\n",
    "Y = np.array(poly_3_data['price']).reshape(-1,1)\n",
    "print(X.shape,Y.shape)"
   ]
  },
  {
   "cell_type": "code",
   "execution_count": 179,
   "metadata": {},
   "outputs": [
    {
     "data": {
      "text/plain": [
       "LinearRegression(copy_X=True, fit_intercept=True, n_jobs=None, normalize=False)"
      ]
     },
     "execution_count": 179,
     "metadata": {},
     "output_type": "execute_result"
    }
   ],
   "source": [
    "model_3.fit(X,Y)\n"
   ]
  },
  {
   "cell_type": "code",
   "execution_count": 182,
   "metadata": {},
   "outputs": [
    {
     "name": "stdout",
     "output_type": "stream",
     "text": [
      "[564335.31015668] [[-4.59098211e+01  1.74295485e-02 -1.22468704e-06]]\n"
     ]
    }
   ],
   "source": [
    "print(model_3.intercept_,model_3.coef_)"
   ]
  },
  {
   "cell_type": "markdown",
   "metadata": {},
   "source": [
    "## Visualizing the model"
   ]
  },
  {
   "cell_type": "code",
   "execution_count": 183,
   "metadata": {},
   "outputs": [
    {
     "data": {
      "image/png": "[encoded data removed]",
      "text/plain": [
       "<Figure size 576x396 with 1 Axes>"
      ]
     },
     "metadata": {},
     "output_type": "display_data"
    }
   ],
   "source": [
    "plt.style.use('seaborn')\n",
    "plt.plot(X,Y,'.')\n",
    "plt.plot(X,model_3.predict(X),color='b',ls='-')\n",
    "plt.show()"
   ]
  },
  {
   "cell_type": "markdown",
   "metadata": {},
   "source": [
    "# Trying a Polynomial Model with Degree:15"
   ]
  },
  {
   "cell_type": "code",
   "execution_count": 190,
   "metadata": {},
   "outputs": [
    {
     "data": {
      "text/html": [
       "<div>\n",
       "<style scoped>\n",
       "    .dataframe tbody tr th:only-of-type {\n",
       "        vertical-align: middle;\n",
       "    }\n",
       "\n",
       "    .dataframe tbody tr th {\n",
       "        vertical-align: top;\n",
       "    }\n",
       "\n",
       "    .dataframe thead th {\n",
       "        text-align: right;\n",
       "    }\n",
       "</style>\n",
       "<table border=\"1\" class=\"dataframe\">\n",
       "  <thead>\n",
       "    <tr style=\"text-align: right;\">\n",
       "      <th></th>\n",
       "      <th>power_1</th>\n",
       "      <th>power_2</th>\n",
       "      <th>power_3</th>\n",
       "      <th>power_4</th>\n",
       "      <th>power_5</th>\n",
       "      <th>power_6</th>\n",
       "      <th>power_7</th>\n",
       "      <th>power_8</th>\n",
       "      <th>power_9</th>\n",
       "      <th>power_10</th>\n",
       "      <th>power_11</th>\n",
       "      <th>power_12</th>\n",
       "      <th>power_13</th>\n",
       "      <th>power_14</th>\n",
       "      <th>power_15</th>\n",
       "      <th>price</th>\n",
       "    </tr>\n",
       "  </thead>\n",
       "  <tbody>\n",
       "    <tr>\n",
       "      <td>0</td>\n",
       "      <td>290.0</td>\n",
       "      <td>84100.0</td>\n",
       "      <td>2.438900e+07</td>\n",
       "      <td>7.072810e+09</td>\n",
       "      <td>2.051115e+12</td>\n",
       "      <td>5.948233e+14</td>\n",
       "      <td>1.724988e+17</td>\n",
       "      <td>5.002464e+19</td>\n",
       "      <td>1.450715e+22</td>\n",
       "      <td>4.207072e+24</td>\n",
       "      <td>1.220051e+27</td>\n",
       "      <td>3.538148e+29</td>\n",
       "      <td>1.026063e+32</td>\n",
       "      <td>2.975582e+34</td>\n",
       "      <td>8.629189e+36</td>\n",
       "      <td>221900.0</td>\n",
       "    </tr>\n",
       "    <tr>\n",
       "      <td>1</td>\n",
       "      <td>370.0</td>\n",
       "      <td>136900.0</td>\n",
       "      <td>5.065300e+07</td>\n",
       "      <td>1.874161e+10</td>\n",
       "      <td>6.934396e+12</td>\n",
       "      <td>2.565726e+15</td>\n",
       "      <td>9.493188e+17</td>\n",
       "      <td>3.512479e+20</td>\n",
       "      <td>1.299617e+23</td>\n",
       "      <td>4.808584e+25</td>\n",
       "      <td>1.779176e+28</td>\n",
       "      <td>6.582952e+30</td>\n",
       "      <td>2.435692e+33</td>\n",
       "      <td>9.012061e+35</td>\n",
       "      <td>3.334463e+38</td>\n",
       "      <td>538000.0</td>\n",
       "    </tr>\n",
       "    <tr>\n",
       "      <td>2</td>\n",
       "      <td>380.0</td>\n",
       "      <td>144400.0</td>\n",
       "      <td>5.487200e+07</td>\n",
       "      <td>2.085136e+10</td>\n",
       "      <td>7.923517e+12</td>\n",
       "      <td>3.010936e+15</td>\n",
       "      <td>1.144156e+18</td>\n",
       "      <td>4.347792e+20</td>\n",
       "      <td>1.652161e+23</td>\n",
       "      <td>6.278212e+25</td>\n",
       "      <td>2.385721e+28</td>\n",
       "      <td>9.065738e+30</td>\n",
       "      <td>3.444980e+33</td>\n",
       "      <td>1.309093e+36</td>\n",
       "      <td>4.974552e+38</td>\n",
       "      <td>180000.0</td>\n",
       "    </tr>\n",
       "    <tr>\n",
       "      <td>3</td>\n",
       "      <td>384.0</td>\n",
       "      <td>147456.0</td>\n",
       "      <td>5.662310e+07</td>\n",
       "      <td>2.174327e+10</td>\n",
       "      <td>8.349416e+12</td>\n",
       "      <td>3.206176e+15</td>\n",
       "      <td>1.231172e+18</td>\n",
       "      <td>4.727699e+20</td>\n",
       "      <td>1.815436e+23</td>\n",
       "      <td>6.971275e+25</td>\n",
       "      <td>2.676970e+28</td>\n",
       "      <td>1.027956e+31</td>\n",
       "      <td>3.947353e+33</td>\n",
       "      <td>1.515783e+36</td>\n",
       "      <td>5.820608e+38</td>\n",
       "      <td>604000.0</td>\n",
       "    </tr>\n",
       "    <tr>\n",
       "      <td>4</td>\n",
       "      <td>390.0</td>\n",
       "      <td>152100.0</td>\n",
       "      <td>5.931900e+07</td>\n",
       "      <td>2.313441e+10</td>\n",
       "      <td>9.022420e+12</td>\n",
       "      <td>3.518744e+15</td>\n",
       "      <td>1.372310e+18</td>\n",
       "      <td>5.352009e+20</td>\n",
       "      <td>2.087284e+23</td>\n",
       "      <td>8.140406e+25</td>\n",
       "      <td>3.174758e+28</td>\n",
       "      <td>1.238156e+31</td>\n",
       "      <td>4.828807e+33</td>\n",
       "      <td>1.883235e+36</td>\n",
       "      <td>7.344616e+38</td>\n",
       "      <td>510000.0</td>\n",
       "    </tr>\n",
       "    <tr>\n",
       "      <td>...</td>\n",
       "      <td>...</td>\n",
       "      <td>...</td>\n",
       "      <td>...</td>\n",
       "      <td>...</td>\n",
       "      <td>...</td>\n",
       "      <td>...</td>\n",
       "      <td>...</td>\n",
       "      <td>...</td>\n",
       "      <td>...</td>\n",
       "      <td>...</td>\n",
       "      <td>...</td>\n",
       "      <td>...</td>\n",
       "      <td>...</td>\n",
       "      <td>...</td>\n",
       "      <td>...</td>\n",
       "      <td>...</td>\n",
       "    </tr>\n",
       "    <tr>\n",
       "      <td>21608</td>\n",
       "      <td>9640.0</td>\n",
       "      <td>92929600.0</td>\n",
       "      <td>8.958413e+11</td>\n",
       "      <td>8.635911e+15</td>\n",
       "      <td>8.325018e+19</td>\n",
       "      <td>8.025317e+23</td>\n",
       "      <td>7.736406e+27</td>\n",
       "      <td>7.457895e+31</td>\n",
       "      <td>7.189411e+35</td>\n",
       "      <td>6.930592e+39</td>\n",
       "      <td>6.681091e+43</td>\n",
       "      <td>6.440572e+47</td>\n",
       "      <td>6.208711e+51</td>\n",
       "      <td>5.985197e+55</td>\n",
       "      <td>5.769730e+59</td>\n",
       "      <td>360000.0</td>\n",
       "    </tr>\n",
       "    <tr>\n",
       "      <td>21609</td>\n",
       "      <td>9890.0</td>\n",
       "      <td>97812100.0</td>\n",
       "      <td>9.673617e+11</td>\n",
       "      <td>9.567207e+15</td>\n",
       "      <td>9.461968e+19</td>\n",
       "      <td>9.357886e+23</td>\n",
       "      <td>9.254949e+27</td>\n",
       "      <td>9.153145e+31</td>\n",
       "      <td>9.052460e+35</td>\n",
       "      <td>8.952883e+39</td>\n",
       "      <td>8.854401e+43</td>\n",
       "      <td>8.757003e+47</td>\n",
       "      <td>8.660676e+51</td>\n",
       "      <td>8.565409e+55</td>\n",
       "      <td>8.471189e+59</td>\n",
       "      <td>400000.0</td>\n",
       "    </tr>\n",
       "    <tr>\n",
       "      <td>21610</td>\n",
       "      <td>10040.0</td>\n",
       "      <td>100801600.0</td>\n",
       "      <td>1.012048e+12</td>\n",
       "      <td>1.016096e+16</td>\n",
       "      <td>1.020161e+20</td>\n",
       "      <td>1.024241e+24</td>\n",
       "      <td>1.028338e+28</td>\n",
       "      <td>1.032452e+32</td>\n",
       "      <td>1.036581e+36</td>\n",
       "      <td>1.040728e+40</td>\n",
       "      <td>1.044891e+44</td>\n",
       "      <td>1.049070e+48</td>\n",
       "      <td>1.053266e+52</td>\n",
       "      <td>1.057480e+56</td>\n",
       "      <td>1.061709e+60</td>\n",
       "      <td>402101.0</td>\n",
       "    </tr>\n",
       "    <tr>\n",
       "      <td>21611</td>\n",
       "      <td>12050.0</td>\n",
       "      <td>145202500.0</td>\n",
       "      <td>1.749690e+12</td>\n",
       "      <td>2.108377e+16</td>\n",
       "      <td>2.540594e+20</td>\n",
       "      <td>3.061416e+24</td>\n",
       "      <td>3.689006e+28</td>\n",
       "      <td>4.445252e+32</td>\n",
       "      <td>5.356529e+36</td>\n",
       "      <td>6.454617e+40</td>\n",
       "      <td>7.777813e+44</td>\n",
       "      <td>9.372265e+48</td>\n",
       "      <td>1.129358e+53</td>\n",
       "      <td>1.360876e+57</td>\n",
       "      <td>1.639856e+61</td>\n",
       "      <td>400000.0</td>\n",
       "    </tr>\n",
       "    <tr>\n",
       "      <td>21612</td>\n",
       "      <td>13540.0</td>\n",
       "      <td>183331600.0</td>\n",
       "      <td>2.482310e+12</td>\n",
       "      <td>3.361048e+16</td>\n",
       "      <td>4.550858e+20</td>\n",
       "      <td>6.161862e+24</td>\n",
       "      <td>8.343162e+28</td>\n",
       "      <td>1.129664e+33</td>\n",
       "      <td>1.529565e+37</td>\n",
       "      <td>2.071031e+41</td>\n",
       "      <td>2.804176e+45</td>\n",
       "      <td>3.796855e+49</td>\n",
       "      <td>5.140941e+53</td>\n",
       "      <td>6.960834e+57</td>\n",
       "      <td>9.424970e+61</td>\n",
       "      <td>325000.0</td>\n",
       "    </tr>\n",
       "  </tbody>\n",
       "</table>\n",
       "<p>21613 rows × 16 columns</p>\n",
       "</div>"
      ],
      "text/plain": [
       "       power_1      power_2       power_3       power_4       power_5  \\\n",
       "0        290.0      84100.0  2.438900e+07  7.072810e+09  2.051115e+12   \n",
       "1        370.0     136900.0  5.065300e+07  1.874161e+10  6.934396e+12   \n",
       "2        380.0     144400.0  5.487200e+07  2.085136e+10  7.923517e+12   \n",
       "3        384.0     147456.0  5.662310e+07  2.174327e+10  8.349416e+12   \n",
       "4        390.0     152100.0  5.931900e+07  2.313441e+10  9.022420e+12   \n",
       "...        ...          ...           ...           ...           ...   \n",
       "21608   9640.0   92929600.0  8.958413e+11  8.635911e+15  8.325018e+19   \n",
       "21609   9890.0   97812100.0  9.673617e+11  9.567207e+15  9.461968e+19   \n",
       "21610  10040.0  100801600.0  1.012048e+12  1.016096e+16  1.020161e+20   \n",
       "21611  12050.0  145202500.0  1.749690e+12  2.108377e+16  2.540594e+20   \n",
       "21612  13540.0  183331600.0  2.482310e+12  3.361048e+16  4.550858e+20   \n",
       "\n",
       "            power_6       power_7       power_8       power_9      power_10  \\\n",
       "0      5.948233e+14  1.724988e+17  5.002464e+19  1.450715e+22  4.207072e+24   \n",
       "1      2.565726e+15  9.493188e+17  3.512479e+20  1.299617e+23  4.808584e+25   \n",
       "2      3.010936e+15  1.144156e+18  4.347792e+20  1.652161e+23  6.278212e+25   \n",
       "3      3.206176e+15  1.231172e+18  4.727699e+20  1.815436e+23  6.971275e+25   \n",
       "4      3.518744e+15  1.372310e+18  5.352009e+20  2.087284e+23  8.140406e+25   \n",
       "...             ...           ...           ...           ...           ...   \n",
       "21608  8.025317e+23  7.736406e+27  7.457895e+31  7.189411e+35  6.930592e+39   \n",
       "21609  9.357886e+23  9.254949e+27  9.153145e+31  9.052460e+35  8.952883e+39   \n",
       "21610  1.024241e+24  1.028338e+28  1.032452e+32  1.036581e+36  1.040728e+40   \n",
       "21611  3.061416e+24  3.689006e+28  4.445252e+32  5.356529e+36  6.454617e+40   \n",
       "21612  6.161862e+24  8.343162e+28  1.129664e+33  1.529565e+37  2.071031e+41   \n",
       "\n",
       "           power_11      power_12      power_13      power_14      power_15  \\\n",
       "0      1.220051e+27  3.538148e+29  1.026063e+32  2.975582e+34  8.629189e+36   \n",
       "1      1.779176e+28  6.582952e+30  2.435692e+33  9.012061e+35  3.334463e+38   \n",
       "2      2.385721e+28  9.065738e+30  3.444980e+33  1.309093e+36  4.974552e+38   \n",
       "3      2.676970e+28  1.027956e+31  3.947353e+33  1.515783e+36  5.820608e+38   \n",
       "4      3.174758e+28  1.238156e+31  4.828807e+33  1.883235e+36  7.344616e+38   \n",
       "...             ...           ...           ...           ...           ...   \n",
       "21608  6.681091e+43  6.440572e+47  6.208711e+51  5.985197e+55  5.769730e+59   \n",
       "21609  8.854401e+43  8.757003e+47  8.660676e+51  8.565409e+55  8.471189e+59   \n",
       "21610  1.044891e+44  1.049070e+48  1.053266e+52  1.057480e+56  1.061709e+60   \n",
       "21611  7.777813e+44  9.372265e+48  1.129358e+53  1.360876e+57  1.639856e+61   \n",
       "21612  2.804176e+45  3.796855e+49  5.140941e+53  6.960834e+57  9.424970e+61   \n",
       "\n",
       "          price  \n",
       "0      221900.0  \n",
       "1      538000.0  \n",
       "2      180000.0  \n",
       "3      604000.0  \n",
       "4      510000.0  \n",
       "...         ...  \n",
       "21608  360000.0  \n",
       "21609  400000.0  \n",
       "21610  402101.0  \n",
       "21611  400000.0  \n",
       "21612  325000.0  \n",
       "\n",
       "[21613 rows x 16 columns]"
      ]
     },
     "execution_count": 190,
     "metadata": {},
     "output_type": "execute_result"
    }
   ],
   "source": [
    "poly_4_data = polynomial_dataset(['sqft_living'],15)\n",
    "poly_4_data['price'] = house_data['price']\n",
    "poly_4_data\n"
   ]
  },
  {
   "cell_type": "code",
   "execution_count": 191,
   "metadata": {},
   "outputs": [
    {
     "name": "stdout",
     "output_type": "stream",
     "text": [
      "(21613, 15) (21613, 1)\n"
     ]
    }
   ],
   "source": [
    "model_4 = LinearRegression()\n",
    "features = []\n",
    "for i in range(1,16):\n",
    "    features.append('power_' + str(i))\n",
    "X = np.array(poly_4_data[features])\n",
    "Y = np.array(poly_4_data['price']).reshape(-1,1)\n",
    "print(X.shape,Y.shape)"
   ]
  },
  {
   "cell_type": "code",
   "execution_count": 192,
   "metadata": {},
   "outputs": [
    {
     "data": {
      "text/plain": [
       "LinearRegression(copy_X=True, fit_intercept=True, n_jobs=None, normalize=False)"
      ]
     },
     "execution_count": 192,
     "metadata": {},
     "output_type": "execute_result"
    }
   ],
   "source": [
    "model_4.fit(X,Y)\n"
   ]
  },
  {
   "cell_type": "code",
   "execution_count": 193,
   "metadata": {},
   "outputs": [
    {
     "name": "stdout",
     "output_type": "stream",
     "text": [
      "[540095.78687012] [[ 3.15440567e-93  4.78072044e-53 -4.04075572e-58  1.71001588e-91\n",
      "   8.28431221e-77  1.85624106e-73  1.56300321e-69  1.28483700e-65\n",
      "   1.01697633e-61  7.58674721e-58  5.13871106e-54  2.92364277e-50\n",
      "   1.11701557e-46 -1.85428685e-50  7.57971194e-55]]\n"
     ]
    }
   ],
   "source": [
    "print(model_4.intercept_,model_4.coef_)"
   ]
  },
  {
   "cell_type": "code",
   "execution_count": 194,
   "metadata": {},
   "outputs": [
    {
     "data": {
      "image/png": "[encoded data removed]",
      "text/plain": [
       "<Figure size 576x396 with 1 Axes>"
      ]
     },
     "metadata": {},
     "output_type": "display_data"
    }
   ],
   "source": [
    "plt.style.use('seaborn')\n",
    "plt.plot(X,Y,'.')\n",
    "plt.plot(X,model_4.predict(X),color='r',ls='-')\n",
    "plt.show()"
   ]
  },
  {
   "cell_type": "markdown",
   "metadata": {},
   "source": [
    "# Trying on different subsets of data 15 degree model"
   ]
  },
  {
   "cell_type": "code",
   "execution_count": 201,
   "metadata": {},
   "outputs": [
    {
     "name": "stdout",
     "output_type": "stream",
     "text": [
      "(5404, 21) (5398, 21) (5409, 21) (5402, 21)\n"
     ]
    }
   ],
   "source": [
    "subset_1 = pd.read_csv('wk3_kc_house_set_1_data.csv',dtype=dtype_dict)\n",
    "subset_2 = pd.read_csv('wk3_kc_house_set_2_data.csv',dtype=dtype_dict)\n",
    "subset_3 = pd.read_csv('wk3_kc_house_set_3_data.csv',dtype=dtype_dict)\n",
    "subset_4 = pd.read_csv('wk3_kc_house_set_4_data.csv',dtype=dtype_dict)\n",
    "print(subset_1.shape,subset_2.shape,subset_3.shape,subset_4.shape)"
   ]
  },
  {
   "cell_type": "markdown",
   "metadata": {},
   "source": [
    "## Subset-1"
   ]
  },
  {
   "cell_type": "code",
   "execution_count": 203,
   "metadata": {},
   "outputs": [
    {
     "name": "stdout",
     "output_type": "stream",
     "text": [
      "(5404, 15) (5404, 1)\n",
      "[539058.81866798] [[ 3.05794168e-90 -1.69394899e-49 -5.61775581e-55 -4.97841222e-60\n",
      "   3.23082736e-74  1.10358333e-70  8.37724029e-67  6.23411957e-63\n",
      "   4.49156442e-59  3.06938763e-55  1.91749300e-51  1.01335180e-47\n",
      "   3.62176959e-44 -5.63501661e-48  2.18641116e-52]]\n"
     ]
    },
    {
     "data": {
      "image/png": "[encoded data removed]",
      "text/plain": [
       "<Figure size 576x396 with 1 Axes>"
      ]
     },
     "metadata": {},
     "output_type": "display_data"
    }
   ],
   "source": [
    "poly_sub_1_data = polynomial_dataset(['sqft_living'],15,subset_1)\n",
    "poly_sub_1_data['price'] = subset_1['price']\n",
    "#poly_sub_1_data\n",
    "\n",
    "model_sub_1 = LinearRegression()\n",
    "features = []\n",
    "for i in range(1,16):\n",
    "    features.append('power_' + str(i))\n",
    "X = np.array(poly_sub_1_data[features])\n",
    "Y = np.array(poly_sub_1_data['price']).reshape(-1,1)\n",
    "print(X.shape,Y.shape)\n",
    "\n",
    "model_sub_1.fit(X,Y)\n",
    "\n",
    "print(model_sub_1.intercept_,model_sub_1.coef_)\n",
    "\n",
    "plt.style.use('seaborn')\n",
    "plt.plot(X,Y,'.')\n",
    "plt.plot(X,model_sub_1.predict(X),color='r',ls='-')\n",
    "plt.show()"
   ]
  },
  {
   "cell_type": "markdown",
   "metadata": {},
   "source": [
    "## Subset-2"
   ]
  },
  {
   "cell_type": "code",
   "execution_count": 205,
   "metadata": {},
   "outputs": [
    {
     "name": "stdout",
     "output_type": "stream",
     "text": [
      "(5398, 15) (5398, 1)\n",
      "[506897.10511154] [[ 2.71335940e-77  7.33543149e-39 -1.85074320e-44  2.12322141e-50\n",
      "  -2.08809743e-53  1.51934985e-58  3.64549605e-55  1.50416253e-51\n",
      "   5.76015646e-48  1.95770491e-44  5.39396521e-41  9.40376329e-38\n",
      "  -3.63529129e-41  4.65476508e-45 -1.97199740e-49]]\n"
     ]
    },
    {
     "data": {
      "image/png": "[encoded data removed]",
      "text/plain": [
       "<Figure size 576x396 with 1 Axes>"
      ]
     },
     "metadata": {},
     "output_type": "display_data"
    }
   ],
   "source": [
    "poly_sub_2_data = polynomial_dataset(['sqft_living'],15,subset_2)\n",
    "poly_sub_2_data['price'] = subset_2['price']\n",
    "#poly_sub_1_data\n",
    "\n",
    "model_sub_2 = LinearRegression()\n",
    "features = []\n",
    "for i in range(1,16):\n",
    "    features.append('power_' + str(i))\n",
    "X = np.array(poly_sub_2_data[features])\n",
    "Y = np.array(poly_sub_2_data['price']).reshape(-1,1)\n",
    "print(X.shape,Y.shape)\n",
    "\n",
    "model_sub_2.fit(X,Y)\n",
    "\n",
    "print(model_sub_2.intercept_,model_sub_2.coef_)\n",
    "\n",
    "plt.style.use('seaborn')\n",
    "plt.plot(X,Y,'.')\n",
    "plt.plot(X,model_sub_2.predict(X),color='r',ls='-')\n",
    "plt.show()"
   ]
  },
  {
   "cell_type": "markdown",
   "metadata": {},
   "source": [
    "# Subset-3"
   ]
  },
  {
   "cell_type": "code",
   "execution_count": 206,
   "metadata": {},
   "outputs": [
    {
     "name": "stdout",
     "output_type": "stream",
     "text": [
      "(5409, 15) (5409, 1)\n",
      "[530874.31665329] [[ 2.83751934e-88 -7.80224148e-49  4.71701806e-55  3.22507898e-85\n",
      "   1.57170169e-72  4.27894908e-69  2.68009626e-65  1.63911362e-61\n",
      "   9.66435015e-58  5.38044653e-54  2.72563636e-50  1.16253248e-46\n",
      "   3.33756141e-43 -6.76238818e-47  3.43132932e-51]]\n"
     ]
    },
    {
     "data": {
      "image/png": "[encoded data removed]",
      "text/plain": [
       "<Figure size 576x396 with 1 Axes>"
      ]
     },
     "metadata": {},
     "output_type": "display_data"
    }
   ],
   "source": [
    "poly_sub_3_data = polynomial_dataset(['sqft_living'],15,subset_3)\n",
    "poly_sub_3_data['price'] = subset_3['price']\n",
    "#poly_sub_1_data\n",
    "\n",
    "model_sub_3 = LinearRegression()\n",
    "features = []\n",
    "for i in range(1,16):\n",
    "    features.append('power_' + str(i))\n",
    "X = np.array(poly_sub_3_data[features])\n",
    "Y = np.array(poly_sub_3_data['price']).reshape(-1,1)\n",
    "print(X.shape,Y.shape)\n",
    "\n",
    "model_sub_3.fit(X,Y)\n",
    "\n",
    "print(model_sub_3.intercept_,model_sub_3.coef_)\n",
    "\n",
    "plt.style.use('seaborn')\n",
    "plt.plot(X,Y,'.')\n",
    "plt.plot(X,model_sub_3.predict(X),ls='-')\n",
    "plt.show()"
   ]
  },
  {
   "cell_type": "markdown",
   "metadata": {},
   "source": [
    "# Subset-4"
   ]
  },
  {
   "cell_type": "code",
   "execution_count": 207,
   "metadata": {},
   "outputs": [
    {
     "name": "stdout",
     "output_type": "stream",
     "text": [
      "(5402, 15) (5402, 1)\n",
      "[494819.03776173] [[ 1.37116050e-76  2.79678991e-40 -2.13061848e-44 -2.21472830e-49\n",
      "   4.17619486e-53  5.29002497e-58  1.27070046e-54  4.87868972e-51\n",
      "   1.73549022e-47  5.47058320e-44  1.39587599e-40  2.25041871e-37\n",
      "  -9.43954119e-41  1.31573060e-44 -6.09163419e-49]]\n"
     ]
    },
    {
     "data": {
      "image/png": "[encoded data removed]",
      "text/plain": [
       "<Figure size 576x396 with 1 Axes>"
      ]
     },
     "metadata": {},
     "output_type": "display_data"
    }
   ],
   "source": [
    "poly_sub_4_data = polynomial_dataset(['sqft_living'],15,subset_4)\n",
    "poly_sub_4_data['price'] = subset_4['price']\n",
    "#poly_sub_1_data\n",
    "\n",
    "model_sub_4 = LinearRegression()\n",
    "features = []\n",
    "for i in range(1,16):\n",
    "    features.append('power_' + str(i))\n",
    "X = np.array(poly_sub_4_data[features])\n",
    "Y = np.array(poly_sub_4_data['price']).reshape(-1,1)\n",
    "print(X.shape,Y.shape)\n",
    "\n",
    "model_sub_4.fit(X,Y)\n",
    "\n",
    "print(model_sub_4.intercept_,model_sub_4.coef_)\n",
    "\n",
    "plt.style.use('seaborn')\n",
    "plt.plot(X,Y,'.')\n",
    "plt.plot(X,model_sub_4.predict(X),ls='-')\n",
    "plt.show()"
   ]
  },
  {
   "cell_type": "markdown",
   "metadata": {},
   "source": [
    "# Now To Decide Which Degree Polynomial will Fit best"
   ]
  },
  {
   "cell_type": "code",
   "execution_count": 209,
   "metadata": {},
   "outputs": [
    {
     "name": "stdout",
     "output_type": "stream",
     "text": [
      "(9761, 21) (2217, 21) (9635, 21)\n"
     ]
    }
   ],
   "source": [
    "train_data = pd.read_csv('wk3_kc_house_train_data.csv')\n",
    "test_data = pd.read_csv('wk3_kc_house_test_data.csv')\n",
    "val_data = pd.read_csv('wk3_kc_house_valid_data.csv')\n",
    "print(train_data.shape,test_data.shape,val_data.shape)"
   ]
  },
  {
   "cell_type": "code",
   "execution_count": 216,
   "metadata": {},
   "outputs": [],
   "source": [
    "rss = {}\n",
    "for i in range(1,16):\n",
    "    poly_data = polynomial_dataset(['sqft_living'],i,train_data)\n",
    "    poly_data['price'] = train_data['price']\n",
    "    \n",
    "\n",
    "    model = LinearRegression()\n",
    "    features = []\n",
    "    for j in range(1,i+1):\n",
    "        features.append('power_' + str(j))\n",
    "    X = np.array(poly_data[features])\n",
    "    Y = np.array(poly_data['price']).reshape(-1,1)\n",
    "    Y_val = np.array(val_data['price']).reshape(-1,1)\n",
    "    X_val = polynomial_dataset(['sqft_living'],i,val_data)\n",
    "\n",
    "    model.fit(X,Y)\n",
    "    \n",
    "    rss['degree_' + str(i)] = np.sum(np.square(Y_val - model.predict(X_val)))\n",
    "\n",
    "    \n"
   ]
  },
  {
   "cell_type": "code",
   "execution_count": 217,
   "metadata": {},
   "outputs": [
    {
     "data": {
      "text/plain": [
       "{'degree_1': 629097886299585.8,\n",
       " 'degree_2': 623955062706518.1,\n",
       " 'degree_3': 625820280251530.8,\n",
       " 'degree_4': 629987335647053.1,\n",
       " 'degree_5': 628238442032656.4,\n",
       " 'degree_6': 566268592700025.0,\n",
       " 'degree_7': 1073845513449868.8,\n",
       " 'degree_8': 7087929059350247.0,\n",
       " 'degree_9': 4.5303237647781784e+16,\n",
       " 'degree_10': 2.475505467749561e+17,\n",
       " 'degree_11': 1.1941675110991795e+18,\n",
       " 'degree_12': 5.102288792337993e+18,\n",
       " 'degree_13': 7.616230021273821e+17,\n",
       " 'degree_14': 2.2975609251117233e+18,\n",
       " 'degree_15': 6.955038097256575e+18}"
      ]
     },
     "execution_count": 217,
     "metadata": {},
     "output_type": "execute_result"
    }
   ],
   "source": [
    "rss"
   ]
  },
  {
   "cell_type": "code",
   "execution_count": 221,
   "metadata": {},
   "outputs": [
    {
     "data": {
      "text/plain": [
       "566268592700025.0"
      ]
     },
     "execution_count": 221,
     "metadata": {},
     "output_type": "execute_result"
    }
   ],
   "source": [
    "min(rss.values())"
   ]
  },
  {
   "cell_type": "markdown",
   "metadata": {},
   "source": [
    "# Choosing the best model and computing test RSS"
   ]
  },
  {
   "cell_type": "code",
   "execution_count": 225,
   "metadata": {},
   "outputs": [
    {
     "name": "stdout",
     "output_type": "stream",
     "text": [
      "(9761, 6) (9761, 1)\n",
      "135225114554205.34\n"
     ]
    }
   ],
   "source": [
    "poly_data_6 = polynomial_dataset(['sqft_living'],6,train_data)\n",
    "poly_data_6['price'] = train_data['price']\n",
    "\n",
    "\n",
    "model_6 = LinearRegression()\n",
    "features = []\n",
    "for i in range(1,7):\n",
    "    features.append('power_' + str(i))\n",
    "X = np.array(poly_data_6[features])\n",
    "Y = np.array(poly_data_6['price']).reshape(-1,1)\n",
    "X_test = polynomial_dataset(['sqft_living'],6,test_data)\n",
    "Y_test = np.array(test_data['price']).reshape(-1,1)\n",
    "print(X.shape,Y.shape)\n",
    "\n",
    "model_6.fit(X,Y)\n",
    "\n",
    "print(np.sum(np.square(Y_test - model_6.predict(X_test))))\n",
    "\n",
    "\n"
   ]
  },
  {
   "cell_type": "markdown",
   "metadata": {},
   "source": [
    "# Questions"
   ]
  },
  {
   "cell_type": "markdown",
   "metadata": {},
   "source": [
    "2. Quiz Question: Is the sign (positive or negative) for power_15 the same in all four models?\n",
    "#### ANS: NO\n",
    "13. Quiz Question: True/False the plotted fitted lines look the same in all four plots\n",
    "#### ANS: False\n",
    "16. Quiz Question: Which degree (1, 2, …, 15) had the lowest RSS on Validation data?\n",
    "#### ANS: degree 6\n",
    "18. Quiz Question: what is the RSS on TEST data for the model with the degree selected from Validation data? (Make sure you got the correct degree from the previous question)\n",
    "#### ANS: 135225114554205.34"
   ]
  }
 ],
 "metadata": {
  "kernelspec": {
   "display_name": "Python 3",
   "language": "python",
   "name": "python3"
  },
  "language_info": {
   "codemirror_mode": {
    "name": "ipython",
    "version": 3
   },
   "file_extension": ".py",
   "mimetype": "text/x-python",
   "name": "python",
   "nbconvert_exporter": "python",
   "pygments_lexer": "ipython3",
   "version": "3.7.4"
  }
 },
 "nbformat": 4,
 "nbformat_minor": 2
}
